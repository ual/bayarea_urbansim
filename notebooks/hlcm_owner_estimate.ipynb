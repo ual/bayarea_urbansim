{
 "cells": [
  {
   "cell_type": "code",
   "execution_count": 1,
   "metadata": {},
   "outputs": [],
   "source": [
    "import pandas as pd\n",
    "import numpy as np\n",
    "from tqdm import tqdm\n",
    "from sklearn.neighbors import BallTree\n",
    "import geopandas as gpd\n",
    "from shapely.geometry import Point, LineString\n",
    "from pyproj import Proj, transform\n",
    "from matplotlib import pyplot as plt\n",
    "%matplotlib inline"
   ]
  },
  {
   "cell_type": "code",
   "execution_count": 2,
   "metadata": {},
   "outputs": [],
   "source": [
    "from urbansim_templates import modelmanager as mm\n",
    "from urbansim_templates.models import LargeMultinomialLogitStep, SegmentedLargeMultinomialLogitStep\n",
    "from urbansim.utils import misc\n",
    "from urbansim_defaults.utils import yaml_to_class\n",
    "from urbansim.models.util import apply_filter_query\n",
    "import orca\n",
    "import os; os.chdir('../')"
   ]
  },
  {
   "cell_type": "code",
   "execution_count": 3,
   "metadata": {},
   "outputs": [],
   "source": [
    "import warnings;warnings.simplefilter('ignore')\n",
    "from baus import datasources, models, variables, ual\n",
    "from choicemodels import MultinomialLogit\n",
    "from choicemodels.tools import MergedChoiceTable"
   ]
  },
  {
   "cell_type": "code",
   "execution_count": 4,
   "metadata": {},
   "outputs": [],
   "source": [
    "orca.add_injectable(\"year\", 2015)"
   ]
  },
  {
   "cell_type": "code",
   "execution_count": 5,
   "metadata": {},
   "outputs": [
    {
     "name": "stdout",
     "output_type": "stream",
     "text": [
      "Running step 'generate_skims_vars'\n",
      "Calculating number of households for zones\n",
      "Calculating mean_persons of households for zones\n",
      "Calculating median_persons of households for zones\n",
      "Calculating std_persons of households for zones\n",
      "Calculating sum_persons of households for zones\n",
      "Calculating mean_income of households for zones\n",
      "Calculating median_income of households for zones\n",
      "Calculating std_income of households for zones\n",
      "Calculating sum_income of households for zones\n",
      "Calculating number of jobs for zones\n",
      "Calculating mean_sector_id of jobs for zones\n",
      "Calculating median_sector_id of jobs for zones\n",
      "Calculating std_sector_id of jobs for zones\n",
      "Calculating number of buildings for zones\n",
      "Calculating mean_residential_units of buildings for zones\n",
      "Calculating median_residential_units of buildings for zones\n",
      "Calculating std_residential_units of buildings for zones\n",
      "Calculating sum_residential_units of buildings for zones\n",
      "Time to execute step 'generate_skims_vars': 18.88 s\n",
      "Running step 'skims_aggregations_drive'\n",
      "Time to execute step 'skims_aggregations_drive': 0.00 s\n",
      "Running step 'neighborhood_vars'\n",
      "Computing accessibility variables\n",
      "Computing retail_sqft_3000\n",
      "Computing sum_income_3000\n",
      "Removed 189769 rows because they contain missing values\n",
      "Computing residential_units_500\n",
      "Computing residential_units_1500\n",
      "Computing office_1500\n",
      "Computing retail_1500\n",
      "Computing industrial_1500\n",
      "Computing ave_sqft_per_unit\n",
      "Computing ave_lot_size_per_unit\n",
      "Computing population\n",
      "Computing poor\n",
      "Computing renters\n",
      "Computing sfdu\n",
      "Computing ave_hhsize\n",
      "Computing jobs_500\n",
      "Computing jobs_1500\n",
      "Computing ave_income_1500\n",
      "Computing ave_income_500\n",
      "       retail_sqft_3000  sum_income_3000  residential_units_500  \\\n",
      "count      4.157160e+05     4.157160e+05          415716.000000   \n",
      "mean       8.410434e+05     1.435924e+09               3.351021   \n",
      "std        1.061719e+06     1.794314e+09               2.157526   \n",
      "min        0.000000e+00     0.000000e+00               0.000000   \n",
      "25%        1.554463e+05     5.023922e+08               1.098612   \n",
      "50%        5.472627e+05     1.040689e+09               4.124656   \n",
      "75%        1.139002e+06     1.765466e+09               5.010687   \n",
      "max        2.399194e+07     1.796125e+10              12.127992   \n",
      "\n",
      "       residential_units_1500    office_1500    retail_1500  industrial_1500  \\\n",
      "count           415716.000000  415716.000000  415716.000000    415716.000000   \n",
      "mean                 5.731420       5.231771       4.506911         3.139300   \n",
      "std                  2.425677       2.676107       2.697748         2.890921   \n",
      "min                  0.000000       0.000000       0.000000         0.000000   \n",
      "25%                  5.230110       3.993111       2.527615         0.000000   \n",
      "50%                  6.604959       5.808030       5.410781         3.120636   \n",
      "75%                  7.247793       7.078414       6.575034         5.735271   \n",
      "max                 12.127992      12.159766      10.888688        10.213689   \n",
      "\n",
      "       ave_sqft_per_unit  ave_lot_size_per_unit     population           poor  \\\n",
      "count      415716.000000          415716.000000  415716.000000  415716.000000   \n",
      "mean            6.817009               8.054446       6.507187       4.782107   \n",
      "std             2.127680               2.661079       2.635568       2.324958   \n",
      "min             0.000000               0.000000       0.000000       0.000000   \n",
      "25%             7.225752               8.217994       6.091566       3.779110   \n",
      "50%             7.416214               8.646272       7.509783       5.420856   \n",
      "75%             7.594037               8.986337       8.149451       6.384902   \n",
      "max             8.699681              18.123512      12.891540      11.291069   \n",
      "\n",
      "        renters           sfdu     ave_hhsize       jobs_500      jobs_1500  \\\n",
      "count  415716.0  415716.000000  415716.000000  415716.000000  415716.000000   \n",
      "mean        0.0       4.930122       1.193134       3.333450       5.770632   \n",
      "std         0.0       2.263214       0.394438       2.210278       2.352008   \n",
      "min         0.0       0.000000       0.000000       0.000000       0.000000   \n",
      "25%         0.0       4.218274       1.192089       1.534158       4.799487   \n",
      "50%         0.0       5.843946       1.294566       3.419220       6.339351   \n",
      "75%         0.0       6.483309       1.385195       5.185312       7.363243   \n",
      "max         0.0      11.723243       2.995732      11.895347      11.895347   \n",
      "\n",
      "       ave_income_1500  ave_income_500  \n",
      "count    415716.000000   415716.000000  \n",
      "mean         10.863171        9.067890  \n",
      "std           3.399087        4.646005  \n",
      "min           0.000000        0.000000  \n",
      "25%          11.593593       10.596660  \n",
      "50%          11.918397       11.302217  \n",
      "75%          12.131354       11.686887  \n",
      "max          13.826451       13.826451  \n",
      "Time to execute step 'neighborhood_vars': 91.55 s\n",
      "Running step 'price_vars'\n",
      "Computing accessibility variables\n",
      "Computing residential\n",
      "Removed 128235 rows because they contain missing values\n",
      "Computing retail\n",
      "Computing office\n",
      "Computing industrial\n",
      "         residential         retail         office     industrial\n",
      "count  415716.000000  415716.000000  415716.000000  415716.000000\n",
      "mean       -0.068968      -0.142263      -0.077680      -0.252276\n",
      "std         0.253400       0.349320       0.267668       0.434319\n",
      "min        -1.000000      -1.000000      -1.000000      -1.000000\n",
      "25%         0.000000       0.000000       0.000000      -1.000000\n",
      "50%         0.000000       0.000000       0.000000       0.000000\n",
      "75%         0.000000       0.000000       0.000000       0.000000\n",
      "max         0.000000       0.000000       0.000000       0.000000\n",
      "Time to execute step 'price_vars': 5.88 s\n",
      "Total time to execute iteration 1 with iteration value None: 116.31 s\n"
     ]
    }
   ],
   "source": [
    "orca.run([\n",
    "    \"generate_skims_vars\",\n",
    "    \"skims_aggregations_drive\",\n",
    "    \"neighborhood_vars\",\n",
    "    \"price_vars\",\n",
    "    \"rsh_simulate\",\n",
    "    \"wlcm_simulate\"\n",
    "])"
   ]
  },
  {
   "cell_type": "code",
   "execution_count": 115,
   "metadata": {},
   "outputs": [
    {
     "name": "stdout",
     "output_type": "stream",
     "text": [
      "Running step 'rsh_simulate'\n",
      "count    2.201072e+06\n",
      "mean     4.210859e+02\n",
      "std      2.039033e+02\n",
      "min     -4.318688e+03\n",
      "25%      2.760981e+02\n",
      "50%      3.990236e+02\n",
      "75%      5.359256e+02\n",
      "max      1.171712e+03\n",
      "dtype: float64\n",
      "Clipping produces\n",
      " count    2.778898e+06\n",
      "mean     3.825435e+02\n",
      "std      1.925757e+02\n",
      "min      2.000000e+02\n",
      "25%      2.000000e+02\n",
      "50%      3.410230e+02\n",
      "75%      4.925668e+02\n",
      "max      1.171712e+03\n",
      "Name: unit_residential_price, dtype: float64\n",
      "Time to execute step 'rsh_simulate': 5.12 s\n",
      "Total time to execute iteration 1 with iteration value None: 5.12 s\n"
     ]
    }
   ],
   "source": [
    "orca.run([\"rsh_simulate\"])"
   ]
  },
  {
   "cell_type": "code",
   "execution_count": 7,
   "metadata": {},
   "outputs": [
    {
     "name": "stdout",
     "output_type": "stream",
     "text": [
      "Registering model step 'wlcm'\n"
     ]
    }
   ],
   "source": [
    "mm.initialize()"
   ]
  },
  {
   "cell_type": "code",
   "execution_count": 8,
   "metadata": {},
   "outputs": [],
   "source": [
    "config = misc.config(\"hlcm_owner.yaml\")"
   ]
  },
  {
   "cell_type": "code",
   "execution_count": 9,
   "metadata": {},
   "outputs": [],
   "source": [
    "config = yaml_to_class(config).from_yaml(str_or_buffer=config)"
   ]
  },
  {
   "cell_type": "code",
   "execution_count": 10,
   "metadata": {},
   "outputs": [
    {
     "data": {
      "text/plain": [
       "\"(tenure == 'own' & income > 0)\""
      ]
     },
     "execution_count": 10,
     "metadata": {},
     "output_type": "execute_result"
    }
   ],
   "source": [
    "config.choosers_fit_filters"
   ]
  },
  {
   "cell_type": "code",
   "execution_count": 11,
   "metadata": {},
   "outputs": [],
   "source": [
    "config.alts_fit_filters"
   ]
  },
  {
   "cell_type": "code",
   "execution_count": 12,
   "metadata": {},
   "outputs": [],
   "source": [
    "config.choice_column"
   ]
  },
  {
   "cell_type": "code",
   "execution_count": 13,
   "metadata": {},
   "outputs": [
    {
     "data": {
      "text/plain": [
       "50"
      ]
     },
     "execution_count": 13,
     "metadata": {},
     "output_type": "execute_result"
    }
   ],
   "source": [
    "config.sample_size"
   ]
  },
  {
   "cell_type": "code",
   "execution_count": 14,
   "metadata": {},
   "outputs": [
    {
     "data": {
      "text/plain": [
       "'np.log1p(total_jobs_gen_tt_CAR_45) + np.log1p(sum_income_gen_tt_CAR_45) + juris_ave_income + jobs_1500 + residential_units_1500 + np.log1p(unit_residential_price) + np.log1p(sqft_per_unit) + sfdu'"
      ]
     },
     "execution_count": 14,
     "metadata": {},
     "output_type": "execute_result"
    }
   ],
   "source": [
    "config.default_model_expr"
   ]
  },
  {
   "cell_type": "code",
   "execution_count": 45,
   "metadata": {},
   "outputs": [],
   "source": [
    "chooser_filters = ['tenure == \"own\"', 'income > 0', 'unit_id > 0']\n",
    "alt_sample_size = 50"
   ]
  },
  {
   "cell_type": "markdown",
   "metadata": {},
   "source": [
    "### Create Merged Choice Table"
   ]
  },
  {
   "cell_type": "markdown",
   "metadata": {},
   "source": [
    "- Have to merge persons-level attributes (i.e. commutes) AFTER creating the merged choice table on households"
   ]
  },
  {
   "cell_type": "code",
   "execution_count": 116,
   "metadata": {},
   "outputs": [
    {
     "name": "stdout",
     "output_type": "stream",
     "text": [
      "Calculating number of households for parcels\n",
      "Calculating mean_persons of households for parcels\n",
      "Calculating median_persons of households for parcels\n",
      "Calculating std_persons of households for parcels\n",
      "Calculating sum_persons of households for parcels\n",
      "Calculating mean_income of households for parcels\n",
      "Calculating median_income of households for parcels\n",
      "Calculating std_income of households for parcels\n",
      "Calculating sum_income of households for parcels\n",
      "Calculating number of jobs for parcels\n",
      "Calculating mean_sector_id of jobs for parcels\n",
      "Calculating median_sector_id of jobs for parcels\n",
      "Calculating std_sector_id of jobs for parcels\n",
      "Calculating number of buildings for parcels\n",
      "Calculating mean_residential_units of buildings for parcels\n",
      "Calculating median_residential_units of buildings for parcels\n",
      "Calculating std_residential_units of buildings for parcels\n",
      "Calculating sum_residential_units of buildings for parcels\n"
     ]
    }
   ],
   "source": [
    "obs = orca.get_table('households').to_frame().sample(100000)\n",
    "obs = apply_filter_query(obs, filters=chooser_filters)\n",
    "obs = obs[['unit_id', 'tenure', 'income']]\n",
    "obs.index.name = 'obs_id'"
   ]
  },
  {
   "cell_type": "code",
   "execution_count": 117,
   "metadata": {},
   "outputs": [
    {
     "name": "stdout",
     "output_type": "stream",
     "text": [
      "Calculating number of households for zones\n",
      "Calculating mean_persons of households for zones\n",
      "Calculating median_persons of households for zones\n",
      "Calculating std_persons of households for zones\n",
      "Calculating sum_persons of households for zones\n",
      "Calculating mean_income of households for zones\n",
      "Calculating median_income of households for zones\n",
      "Calculating std_income of households for zones\n",
      "Calculating sum_income of households for zones\n",
      "Calculating number of jobs for zones\n",
      "Calculating mean_sector_id of jobs for zones\n",
      "Calculating median_sector_id of jobs for zones\n",
      "Calculating std_sector_id of jobs for zones\n",
      "Calculating number of buildings for zones\n",
      "Calculating mean_residential_units of buildings for zones\n",
      "Calculating median_residential_units of buildings for zones\n",
      "Calculating std_residential_units of buildings for zones\n",
      "Calculating sum_residential_units of buildings for zones\n"
     ]
    }
   ],
   "source": [
    "alts = orca.merge_tables(\n",
    "    'residential_units', ['residential_units'] + orca.get_injectable('aggregations') + ['buildings', 'zones'] )\n",
    "\n",
    "alts.rename(columns={'zone_id': 'zone_id_home'}, inplace=True)\n",
    "\n",
    "alts = alts[[\n",
    "    'total_jobs_gen_tt_CAR_45', 'sum_income_gen_tt_CAR_45', 'juris_ave_income', 'jobs_1500',\n",
    "    'residential_units_1500', 'unit_residential_price', 'sqft_per_unit', 'sfdu', 'zone_id_home'\n",
    "]]"
   ]
  },
  {
   "cell_type": "code",
   "execution_count": 184,
   "metadata": {},
   "outputs": [],
   "source": [
    "interaction_terms = orca.get_table('beam_skims_imputed').to_frame().rename_axis(\n",
    "            ['zone_id_home', 'zone_id_work'])[['dist', 'gen_tt_CAR', 'gen_tt_WALK_TRANSIT']]\n",
    "\n",
    "interaction_terms = interaction_terms.reset_index().set_index(['zone_id_work', 'zone_id_home'])"
   ]
  },
  {
   "cell_type": "code",
   "execution_count": 201,
   "metadata": {},
   "outputs": [],
   "source": [
    "mct = MergedChoiceTable(\n",
    "    obs, alts,\n",
    "    chosen_alternatives='unit_id',\n",
    "    sample_size=alt_sample_size)"
   ]
  },
  {
   "cell_type": "code",
   "execution_count": 202,
   "metadata": {},
   "outputs": [],
   "source": [
    "mct = MergedChoiceTable(\n",
    "    obs, alts,\n",
    "    chosen_alternatives='unit_id',\n",
    "    sample_size=alt_sample_size,\n",
    "                       )\n",
    "mct_df = mct.to_frame()\n",
    "mct_df.reset_index(inplace=True)"
   ]
  },
  {
   "cell_type": "code",
   "execution_count": 203,
   "metadata": {},
   "outputs": [],
   "source": [
    "persons = orca.get_table('persons').to_frame(columns=['household_id', 'job_id'])\n",
    "jobs = orca.get_table('jobs').to_frame(columns=['zone_id_work'])\n",
    "persons_jobs = pd.merge(persons, jobs, left_on='job_id', right_index=True, how='left')\n",
    "\n",
    "mct_persons = pd.merge(mct_df, persons_jobs, left_on='obs_id', right_on='household_id', how='left')\n",
    "mct_persons = mct_persons.join(interaction_terms, how='left', on=interaction_terms.index.names)\n",
    "\n",
    "person_aggs = mct_persons.groupby(['obs_id', 'unit_id']).agg(\n",
    "    max_hh_commute_auto = pd.NamedAgg('gen_tt_CAR', 'max'),\n",
    "    max_hh_commute_transit = pd.NamedAgg('gen_tt_WALK_TRANSIT', 'max'),\n",
    "    max_hh_commute_dist = pd.NamedAgg('dist', 'max')\n",
    ").reset_index()"
   ]
  },
  {
   "cell_type": "code",
   "execution_count": 204,
   "metadata": {},
   "outputs": [],
   "source": [
    "mct_df = pd.merge(mct_df, person_aggs, on=['obs_id', 'unit_id'], how='left')\n",
    "mct_df['segment'] = 'no commuters'\n",
    "mct_df.loc[~pd.isnull(mct_df['max_commute_auto']), 'segment'] = '1+ commuter'\n",
    "mct_df.set_index(['obs_id', 'unit_id'], inplace=True)"
   ]
  },
  {
   "cell_type": "code",
   "execution_count": 205,
   "metadata": {},
   "outputs": [],
   "source": [
    "mct = MergedChoiceTable.from_df(mct_df)\n",
    "mct_commuters = MergedChoiceTable.from_df(mct_df[mct_df['segment'] == '1+ commuter'])\n",
    "mct_no_commuters = MergedChoiceTable.from_df(mct_df[mct_df['segment'] == 'no commuter'])"
   ]
  },
  {
   "cell_type": "code",
   "execution_count": 206,
   "metadata": {},
   "outputs": [],
   "source": [
    "default = LargeMultinomialLogitStep(\n",
    "    choosers=pd.DataFrame(),\n",
    "    chooser_filters=chooser_filters,\n",
    "    choice_column='unit_id',\n",
    "    constrained_choices=True,\n",
    "    alternatives=pd.DataFrame(),\n",
    "    alt_sample_size=alt_sample_size,\n",
    ")"
   ]
  },
  {
   "cell_type": "code",
   "execution_count": 207,
   "metadata": {},
   "outputs": [],
   "source": [
    "default.model_expression = \"\"\"np.log1p(total_jobs_gen_tt_CAR_45) + np.log1p(sum_income_gen_tt_CAR_45) + \n",
    "    + juris_ave_income + jobs_1500 + residential_units_1500 + np.log1p(unit_residential_price)\"\"\""
   ]
  },
  {
   "cell_type": "code",
   "execution_count": 208,
   "metadata": {},
   "outputs": [],
   "source": [
    "m = SegmentedLargeMultinomialLogitStep(\n",
    "    defaults=default, \n",
    "    segmentation_column='segment'\n",
    ")"
   ]
  },
  {
   "cell_type": "code",
   "execution_count": 209,
   "metadata": {
    "scrolled": false
   },
   "outputs": [
    {
     "name": "stdout",
     "output_type": "stream",
     "text": [
      "Building submodels for 2 categories: ['1+ commuter' 'no commuters']\n"
     ]
    }
   ],
   "source": [
    "m.build_submodels(mct=mct)"
   ]
  },
  {
   "cell_type": "code",
   "execution_count": 210,
   "metadata": {},
   "outputs": [],
   "source": [
    "commuter_hlcm = m.submodels['1+ commuter']"
   ]
  },
  {
   "cell_type": "code",
   "execution_count": 218,
   "metadata": {},
   "outputs": [],
   "source": [
    "commuter_hlcm.model_expression = \"\"\"np.log1p(total_jobs_gen_tt_CAR_45) + np.log1p(sum_income_gen_tt_CAR_45) + \n",
    "    juris_ave_income + jobs_1500 + residential_units_1500 + np.log1p(unit_residential_price) + \n",
    "    max_commute_auto * np.log1p(max_commute_dist)\"\"\""
   ]
  },
  {
   "cell_type": "code",
   "execution_count": 219,
   "metadata": {},
   "outputs": [
    {
     "name": "stdout",
     "output_type": "stream",
     "text": [
      "                  CHOICEMODELS ESTIMATION RESULTS                   \n",
      "====================================================================\n",
      "Dep. Var.:                chosen   No. Observations:          35,510\n",
      "Model:         Multinomial Logit   Df Residuals:              35,500\n",
      "Method:       Maximum Likelihood   Df Model:                      10\n",
      "Date:                 2020-04-11   Pseudo R-squ.:              0.013\n",
      "Time:                      01:04   Pseudo R-bar-squ.:          0.013\n",
      "AIC:                 274,296.185   Log-Likelihood:      -137,138.093\n",
      "BIC:                 274,380.961   LL-Null:             -138,915.937\n",
      "================================================================================================\n",
      "                                                 coef   std err         z     P>|z|   Conf. Int.\n",
      "------------------------------------------------------------------------------------------------\n",
      "Intercept                                      0.0000     0.879     0.000     1.000             \n",
      "np.log1p(total_jobs_gen_tt_CAR_45)             0.1348     0.064     2.117     0.034             \n",
      "np.log1p(sum_income_gen_tt_CAR_45)            -0.1161     0.066    -1.755     0.079             \n",
      "juris_ave_income                               0.2854     0.022    12.851     0.000             \n",
      "jobs_1500                                     -0.1315     0.006   -22.135     0.000             \n",
      "residential_units_1500                         0.0503     0.008     6.110     0.000             \n",
      "np.log1p(unit_residential_price)              -0.1243     0.015    -8.433     0.000             \n",
      "max_commute_auto                              -0.0537     0.003   -16.023     0.000             \n",
      "np.log1p(max_commute_dist)                     0.0939     0.015     6.146     0.000             \n",
      "max_commute_auto:np.log1p(max_commute_dist)    0.0048     0.000    17.838     0.000             \n",
      "================================================================================================\n"
     ]
    }
   ],
   "source": [
    "commuter_hlcm.fit(mct_commuters)"
   ]
  },
  {
   "cell_type": "code",
   "execution_count": null,
   "metadata": {},
   "outputs": [],
   "source": []
  }
 ],
 "metadata": {
  "kernelspec": {
   "display_name": "Python [conda env:baus] *",
   "language": "python",
   "name": "conda-env-baus-py"
  },
  "language_info": {
   "codemirror_mode": {
    "name": "ipython",
    "version": 3
   },
   "file_extension": ".py",
   "mimetype": "text/x-python",
   "name": "python",
   "nbconvert_exporter": "python",
   "pygments_lexer": "ipython3",
   "version": "3.6.10"
  }
 },
 "nbformat": 4,
 "nbformat_minor": 4
}
