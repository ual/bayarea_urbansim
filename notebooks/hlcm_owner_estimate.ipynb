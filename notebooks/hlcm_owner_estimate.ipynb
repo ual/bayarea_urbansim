{
 "cells": [
  {
   "cell_type": "code",
   "execution_count": 1,
   "metadata": {},
   "outputs": [],
   "source": [
    "import pandas as pd\n",
    "import numpy as np\n",
    "from tqdm import tqdm\n",
    "from sklearn.neighbors import BallTree\n",
    "import geopandas as gpd\n",
    "from shapely.geometry import Point, LineString\n",
    "from pyproj import Proj, transform\n",
    "from matplotlib import pyplot as plt\n",
    "%matplotlib inline"
   ]
  },
  {
   "cell_type": "code",
   "execution_count": 2,
   "metadata": {},
   "outputs": [],
   "source": [
    "from urbansim_templates import modelmanager as mm\n",
    "from urbansim_templates.models import LargeMultinomialLogitStep, SegmentedLargeMultinomialLogitStep\n",
    "from urbansim.utils import misc\n",
    "from urbansim_defaults.utils import yaml_to_class\n",
    "from urbansim.models.util import apply_filter_query\n",
    "import orca\n",
    "import os; os.chdir('../')"
   ]
  },
  {
   "cell_type": "code",
   "execution_count": 3,
   "metadata": {},
   "outputs": [],
   "source": [
    "import warnings;warnings.simplefilter('ignore')\n",
    "from baus import datasources, models, variables, ual\n",
    "from choicemodels import MultinomialLogit\n",
    "from choicemodels.tools import MergedChoiceTable"
   ]
  },
  {
   "cell_type": "markdown",
   "metadata": {},
   "source": [
    "### Set up Orca environment"
   ]
  },
  {
   "cell_type": "code",
   "execution_count": 4,
   "metadata": {},
   "outputs": [],
   "source": [
    "orca.add_injectable(\"year\", 2015)"
   ]
  },
  {
   "cell_type": "code",
   "execution_count": 5,
   "metadata": {},
   "outputs": [
    {
     "name": "stdout",
     "output_type": "stream",
     "text": [
      "Running step 'generate_skims_vars'\n",
      "Calculating number of households for zones\n",
      "Calculating mean_persons of households for zones\n",
      "Calculating median_persons of households for zones\n",
      "Calculating std_persons of households for zones\n",
      "Calculating sum_persons of households for zones\n",
      "Calculating mean_income of households for zones\n",
      "Calculating median_income of households for zones\n",
      "Calculating std_income of households for zones\n",
      "Calculating sum_income of households for zones\n",
      "Calculating number of jobs for zones\n",
      "Calculating mean_sector_id of jobs for zones\n",
      "Calculating median_sector_id of jobs for zones\n",
      "Calculating std_sector_id of jobs for zones\n",
      "Calculating number of buildings for zones\n",
      "Calculating mean_residential_units of buildings for zones\n",
      "Calculating median_residential_units of buildings for zones\n",
      "Calculating std_residential_units of buildings for zones\n",
      "Calculating sum_residential_units of buildings for zones\n",
      "Time to execute step 'generate_skims_vars': 18.90 s\n",
      "Running step 'skims_aggregations_drive'\n",
      "Time to execute step 'skims_aggregations_drive': 0.00 s\n",
      "Running step 'neighborhood_vars'\n",
      "Computing accessibility variables\n",
      "Computing retail_sqft_3000\n",
      "Computing sum_income_3000\n",
      "Removed 189769 rows because they contain missing values\n",
      "Computing residential_units_500\n",
      "Computing residential_units_1500\n",
      "Computing office_1500\n",
      "Computing retail_1500\n",
      "Computing industrial_1500\n",
      "Computing ave_sqft_per_unit\n",
      "Computing ave_lot_size_per_unit\n",
      "Computing population\n",
      "Computing poor\n",
      "Computing renters\n",
      "Computing sfdu\n",
      "Computing ave_hhsize\n",
      "Computing jobs_500\n",
      "Computing jobs_1500\n",
      "Computing ave_income_1500\n",
      "Computing ave_income_500\n",
      "       retail_sqft_3000  sum_income_3000  residential_units_500  \\\n",
      "count      4.157160e+05     4.157160e+05          415716.000000   \n",
      "mean       8.410434e+05     1.435924e+09               3.351021   \n",
      "std        1.061719e+06     1.794314e+09               2.157526   \n",
      "min        0.000000e+00     0.000000e+00               0.000000   \n",
      "25%        1.554463e+05     5.023922e+08               1.098612   \n",
      "50%        5.472627e+05     1.040689e+09               4.124656   \n",
      "75%        1.139002e+06     1.765466e+09               5.010687   \n",
      "max        2.399194e+07     1.796125e+10              12.127992   \n",
      "\n",
      "       residential_units_1500    office_1500    retail_1500  industrial_1500  \\\n",
      "count           415716.000000  415716.000000  415716.000000    415716.000000   \n",
      "mean                 5.731420       5.231771       4.506911         3.139300   \n",
      "std                  2.425677       2.676107       2.697748         2.890921   \n",
      "min                  0.000000       0.000000       0.000000         0.000000   \n",
      "25%                  5.230110       3.993111       2.527615         0.000000   \n",
      "50%                  6.604959       5.808030       5.410781         3.120636   \n",
      "75%                  7.247793       7.078414       6.575034         5.735271   \n",
      "max                 12.127992      12.159766      10.888688        10.213689   \n",
      "\n",
      "       ave_sqft_per_unit  ave_lot_size_per_unit     population           poor  \\\n",
      "count      415716.000000          415716.000000  415716.000000  415716.000000   \n",
      "mean            6.817009               8.054446       6.507187       4.782107   \n",
      "std             2.127680               2.661079       2.635568       2.324958   \n",
      "min             0.000000               0.000000       0.000000       0.000000   \n",
      "25%             7.225752               8.217994       6.091566       3.779110   \n",
      "50%             7.416214               8.646272       7.509783       5.420856   \n",
      "75%             7.594037               8.986337       8.149451       6.384902   \n",
      "max             8.699681              18.123512      12.891540      11.291069   \n",
      "\n",
      "        renters           sfdu     ave_hhsize       jobs_500      jobs_1500  \\\n",
      "count  415716.0  415716.000000  415716.000000  415716.000000  415716.000000   \n",
      "mean        0.0       4.930122       1.193134       3.333450       5.770632   \n",
      "std         0.0       2.263214       0.394438       2.210278       2.352008   \n",
      "min         0.0       0.000000       0.000000       0.000000       0.000000   \n",
      "25%         0.0       4.218274       1.192089       1.534158       4.799487   \n",
      "50%         0.0       5.843946       1.294566       3.419220       6.339351   \n",
      "75%         0.0       6.483309       1.385195       5.185312       7.363243   \n",
      "max         0.0      11.723243       2.995732      11.895347      11.895347   \n",
      "\n",
      "       ave_income_1500  ave_income_500  \n",
      "count    415716.000000   415716.000000  \n",
      "mean         10.863171        9.067890  \n",
      "std           3.399087        4.646005  \n",
      "min           0.000000        0.000000  \n",
      "25%          11.593593       10.596660  \n",
      "50%          11.918397       11.302217  \n",
      "75%          12.131354       11.686887  \n",
      "max          13.826451       13.826451  \n",
      "Time to execute step 'neighborhood_vars': 90.19 s\n",
      "Running step 'price_vars'\n",
      "Computing accessibility variables\n",
      "Computing residential\n",
      "Removed 128235 rows because they contain missing values\n",
      "Computing retail\n",
      "Computing office\n",
      "Computing industrial\n",
      "         residential         retail         office     industrial\n",
      "count  415716.000000  415716.000000  415716.000000  415716.000000\n",
      "mean       -0.068968      -0.142263      -0.077680      -0.252276\n",
      "std         0.253400       0.349320       0.267668       0.434319\n",
      "min        -1.000000      -1.000000      -1.000000      -1.000000\n",
      "25%         0.000000       0.000000       0.000000      -1.000000\n",
      "50%         0.000000       0.000000       0.000000       0.000000\n",
      "75%         0.000000       0.000000       0.000000       0.000000\n",
      "max         0.000000       0.000000       0.000000       0.000000\n",
      "Time to execute step 'price_vars': 4.99 s\n",
      "Running step 'rsh_simulate'\n",
      "Calculating number of jobs for zones\n",
      "count    2.201072e+06\n",
      "mean     4.210859e+02\n",
      "std      2.039033e+02\n",
      "min     -4.318688e+03\n",
      "25%      2.760981e+02\n",
      "50%      3.990236e+02\n",
      "75%      5.359256e+02\n",
      "max      1.171712e+03\n",
      "dtype: float64\n",
      "Clipping produces\n",
      " count    2.778898e+06\n",
      "mean     3.825435e+02\n",
      "std      1.925757e+02\n",
      "min      2.000000e+02\n",
      "25%      2.000000e+02\n",
      "50%      3.410230e+02\n",
      "75%      4.925668e+02\n",
      "max      1.171712e+03\n",
      "Name: unit_residential_price, dtype: float64\n",
      "Time to execute step 'rsh_simulate': 19.79 s\n",
      "Running step 'wlcm_simulate'\n",
      "Registering model step 'wlcm'\n",
      "Describe of development projects\n",
      "          parcel_id  residential_units  residential_sqft  sqft_per_unit  \\\n",
      "count  2.431000e+03        2431.000000            2431.0     741.000000   \n",
      "mean   1.051065e+06         131.194981               0.0     904.892038   \n",
      "std    5.938067e+05         368.788354               0.0     434.518082   \n",
      "min    1.900000e+01           0.000000               0.0       0.000000   \n",
      "25%    5.758060e+05           0.000000               0.0     853.000000   \n",
      "50%    1.113052e+06          24.000000               0.0     925.000000   \n",
      "75%    1.414510e+06         127.000000               0.0    1200.000000   \n",
      "max    2.052766e+06        9400.000000               0.0    2500.000000   \n",
      "\n",
      "       non_residential_sqft  building_sqft      stories   year_built  \\\n",
      "count          2.431000e+03   2.431000e+03  2431.000000  2431.000000   \n",
      "mean           6.248265e+04   2.277823e+05     2.477170  2019.361580   \n",
      "std            2.662721e+05   6.489485e+05     4.822038     7.946767   \n",
      "min            0.000000e+00   0.000000e+00     1.000000  2015.000000   \n",
      "25%            0.000000e+00   1.978300e+04     1.000000  2015.000000   \n",
      "50%            0.000000e+00   7.077500e+04     1.000000  2015.000000   \n",
      "75%            1.579400e+04   2.235000e+05     2.000000  2020.000000   \n",
      "max            5.100000e+06   2.068000e+07    70.000000  2104.000000   \n",
      "\n",
      "       redfin_sale_price  redfin_sale_year  building_type_id  \\\n",
      "count                0.0            2431.0        444.000000   \n",
      "mean                 NaN            2012.0          6.936937   \n",
      "std                  NaN               0.0          4.228847   \n",
      "min                  NaN            2012.0          1.000000   \n",
      "25%                  NaN            2012.0          3.000000   \n",
      "50%                  NaN            2012.0          4.000000   \n",
      "75%                  NaN            2012.0         12.000000   \n",
      "max                  NaN            2012.0         14.000000   \n",
      "\n",
      "       residential_price  non_residential_rent  deed_restricted_units  \n",
      "count             2431.0                2431.0                 2431.0  \n",
      "mean                 0.0                   0.0                    0.0  \n",
      "std                  0.0                   0.0                    0.0  \n",
      "min                  0.0                   0.0                    0.0  \n",
      "25%                  0.0                   0.0                    0.0  \n",
      "50%                  0.0                   0.0                    0.0  \n",
      "75%                  0.0                   0.0                    0.0  \n",
      "max                  0.0                   0.0                    0.0  \n"
     ]
    },
    {
     "name": "stdout",
     "output_type": "stream",
     "text": [
      "Calculating number of households for parcels\n",
      "Calculating mean_persons of households for parcels\n",
      "Calculating median_persons of households for parcels\n",
      "Calculating std_persons of households for parcels\n",
      "Calculating sum_persons of households for parcels\n",
      "Calculating mean_income of households for parcels\n",
      "Calculating median_income of households for parcels\n",
      "Calculating std_income of households for parcels\n",
      "Calculating sum_income of households for parcels\n",
      "Calculating number of jobs for parcels\n",
      "Calculating mean_sector_id of jobs for parcels\n",
      "Calculating median_sector_id of jobs for parcels\n",
      "Calculating std_sector_id of jobs for parcels\n",
      "Calculating number of buildings for parcels\n",
      "Calculating mean_residential_units of buildings for parcels\n",
      "Calculating median_residential_units of buildings for parcels\n",
      "Calculating std_residential_units of buildings for parcels\n",
      "Calculating sum_residential_units of buildings for parcels\n",
      "Calculating number of jobs for zones\n",
      "Iteration 1: 191347 of 3293834 valid choices\n",
      "Iteration 2: 381801 of 3293834 valid choices\n",
      "Iteration 3: 571676 of 3293834 valid choices\n",
      "Iteration 4: 760548 of 3293834 valid choices\n",
      "Iteration 5: 948294 of 3293834 valid choices\n",
      "Iteration 6: 1134562 of 3293834 valid choices\n",
      "Iteration 7: 1319203 of 3293834 valid choices\n",
      "Iteration 8: 1501591 of 3293834 valid choices\n",
      "Iteration 9: 1681345 of 3293834 valid choices\n",
      "Iteration 10: 1857079 of 3293834 valid choices\n",
      "Iteration 11: 2027675 of 3293834 valid choices\n",
      "Iteration 12: 2190334 of 3293834 valid choices\n",
      "Iteration 13: 2339766 of 3293834 valid choices\n",
      "Iteration 14: 2466272 of 3293834 valid choices\n",
      "Iteration 15: 2550017 of 3293834 valid choices\n",
      "Iteration 16: 2576145 of 3293834 valid choices\n",
      "Iteration 17: 2578046 of 3293834 valid choices\n",
      "No valid alternatives for the remaining choosers\n",
      "Time to execute step 'wlcm_simulate': 229.68 s\n",
      "Total time to execute iteration 1 with iteration value None: 363.55 s\n"
     ]
    }
   ],
   "source": [
    "orca.run([\n",
    "    \"generate_skims_vars\",\n",
    "    \"skims_aggregations_drive\",\n",
    "    \"neighborhood_vars\",\n",
    "    \"price_vars\",\n",
    "    \"rsh_simulate\",\n",
    "    \"wlcm_simulate\"\n",
    "])"
   ]
  },
  {
   "cell_type": "code",
   "execution_count": 6,
   "metadata": {},
   "outputs": [
    {
     "name": "stdout",
     "output_type": "stream",
     "text": [
      "Registering model step 'wlcm'\n"
     ]
    }
   ],
   "source": [
    "mm.initialize()"
   ]
  },
  {
   "cell_type": "markdown",
   "metadata": {},
   "source": [
    "### Create Merged Choice Table"
   ]
  },
  {
   "cell_type": "markdown",
   "metadata": {},
   "source": [
    "- Have to merge persons-level attributes (i.e. commutes) AFTER creating the merged choice table on households"
   ]
  },
  {
   "cell_type": "code",
   "execution_count": 23,
   "metadata": {},
   "outputs": [],
   "source": [
    "chooser_filters = ['tenure == \"own\"', 'income > 0', 'unit_id >= 0']\n",
    "alt_sample_size = 50"
   ]
  },
  {
   "cell_type": "code",
   "execution_count": 24,
   "metadata": {},
   "outputs": [],
   "source": [
    "obs = orca.get_table('households').to_frame().sample(100000)\n",
    "obs = apply_filter_query(obs, filters=chooser_filters)\n",
    "obs = obs[['unit_id', 'tenure', 'income']]\n",
    "obs.index.name = 'obs_id'"
   ]
  },
  {
   "cell_type": "code",
   "execution_count": 25,
   "metadata": {},
   "outputs": [],
   "source": [
    "alts = orca.merge_tables(\n",
    "    'residential_units', ['residential_units'] + orca.get_injectable('aggregations') + ['buildings', 'zones'] )\n",
    "\n",
    "alts.rename(columns={'zone_id': 'zone_id_home'}, inplace=True)\n",
    "\n",
    "alts = alts[[\n",
    "    'total_jobs_gen_tt_CAR_45', 'sum_income_gen_tt_CAR_45', 'juris_ave_income', 'jobs_1500',\n",
    "    'residential_units_1500', 'unit_residential_price', 'sqft_per_unit', 'sfdu', 'zone_id_home'\n",
    "]]"
   ]
  },
  {
   "cell_type": "code",
   "execution_count": 26,
   "metadata": {},
   "outputs": [],
   "source": [
    "interaction_terms = orca.get_table('beam_skims_imputed').to_frame().rename_axis(\n",
    "            ['zone_id_home', 'zone_id_work'])[['dist', 'gen_tt_CAR', 'gen_tt_WALK_TRANSIT']]\n",
    "\n",
    "interaction_terms = interaction_terms.reset_index().set_index(['zone_id_work', 'zone_id_home'])"
   ]
  },
  {
   "cell_type": "code",
   "execution_count": 27,
   "metadata": {},
   "outputs": [],
   "source": [
    "mct = MergedChoiceTable(\n",
    "    obs, alts,\n",
    "    chosen_alternatives='unit_id',\n",
    "    sample_size=alt_sample_size)"
   ]
  },
  {
   "cell_type": "code",
   "execution_count": 28,
   "metadata": {},
   "outputs": [],
   "source": [
    "mct = MergedChoiceTable(\n",
    "    obs, alts,\n",
    "    chosen_alternatives='unit_id',\n",
    "    sample_size=alt_sample_size,\n",
    "                       )\n",
    "mct_df = mct.to_frame()\n",
    "mct_df.reset_index(inplace=True)"
   ]
  },
  {
   "cell_type": "code",
   "execution_count": 29,
   "metadata": {},
   "outputs": [],
   "source": [
    "persons = orca.get_table('persons').to_frame(columns=['household_id', 'job_id'])\n",
    "jobs = orca.get_table('jobs').to_frame(columns=['zone_id_work'])\n",
    "persons_jobs = pd.merge(persons, jobs, left_on='job_id', right_index=True, how='left')\n",
    "\n",
    "mct_persons = pd.merge(mct_df, persons_jobs, left_on='obs_id', right_on='household_id', how='left')\n",
    "mct_persons = mct_persons.join(interaction_terms, how='left', on=interaction_terms.index.names)\n",
    "\n",
    "person_aggs = mct_persons.groupby(['obs_id', 'unit_id']).agg(\n",
    "    max_hh_commute_auto = pd.NamedAgg('gen_tt_CAR', 'max'),\n",
    "    max_hh_commute_transit = pd.NamedAgg('gen_tt_WALK_TRANSIT', 'max'),\n",
    "    max_hh_commute_dist = pd.NamedAgg('dist', 'max')\n",
    ").reset_index()"
   ]
  },
  {
   "cell_type": "code",
   "execution_count": 30,
   "metadata": {},
   "outputs": [],
   "source": [
    "mct_df = pd.merge(mct_df, person_aggs, on=['obs_id', 'unit_id'], how='left')\n",
    "mct_df['segment'] = 'no commuters'\n",
    "mct_df.loc[~pd.isnull(mct_df['max_hh_commute_auto']), 'segment'] = '1+ commuter'\n",
    "mct_df.set_index(['obs_id', 'unit_id'], inplace=True)"
   ]
  },
  {
   "cell_type": "code",
   "execution_count": 31,
   "metadata": {},
   "outputs": [],
   "source": [
    "mct = MergedChoiceTable.from_df(mct_df)"
   ]
  },
  {
   "cell_type": "markdown",
   "metadata": {},
   "source": [
    "### Fit model"
   ]
  },
  {
   "cell_type": "code",
   "execution_count": 32,
   "metadata": {},
   "outputs": [],
   "source": [
    "default = LargeMultinomialLogitStep(\n",
    "    choosers=pd.DataFrame(),\n",
    "    chooser_filters=chooser_filters,\n",
    "    choice_column='unit_id',\n",
    "    constrained_choices=True,\n",
    "    alternatives=pd.DataFrame(),\n",
    "    alt_sample_size=alt_sample_size,\n",
    ")"
   ]
  },
  {
   "cell_type": "code",
   "execution_count": 45,
   "metadata": {},
   "outputs": [],
   "source": [
    "default.model_expression = \"np.log1p(total_jobs_gen_tt_CAR_45) + np.log1p(sum_income_gen_tt_CAR_45) + \" + \\\n",
    "    \"juris_ave_income + jobs_1500 + residential_units_1500 + np.log1p(unit_residential_price) - 1\""
   ]
  },
  {
   "cell_type": "code",
   "execution_count": 53,
   "metadata": {},
   "outputs": [],
   "source": [
    "m = SegmentedLargeMultinomialLogitStep(\n",
    "    defaults=default, \n",
    "    segmentation_column='segment'\n",
    ")"
   ]
  },
  {
   "cell_type": "code",
   "execution_count": 55,
   "metadata": {},
   "outputs": [],
   "source": [
    "commuter_hlcm = m.submodels['1+ commuter']"
   ]
  },
  {
   "cell_type": "code",
   "execution_count": 56,
   "metadata": {},
   "outputs": [],
   "source": [
    "commuter_hlcm.model_expression = commuter_hlcm.model_expression + \\\n",
    "    ' + max_hh_commute_auto * np.log1p(max_hh_commute_dist)'"
   ]
  },
  {
   "cell_type": "code",
   "execution_count": 57,
   "metadata": {},
   "outputs": [
    {
     "name": "stdout",
     "output_type": "stream",
     "text": [
      "################### SEGMENT: segment = 1+ commuter ###################\n",
      "                  CHOICEMODELS ESTIMATION RESULTS                   \n",
      "====================================================================\n",
      "Dep. Var.:                chosen   No. Observations:          35,591\n",
      "Model:         Multinomial Logit   Df Residuals:              35,582\n",
      "Method:       Maximum Likelihood   Df Model:                       9\n",
      "Date:                 2020-04-13   Pseudo R-squ.:              0.013\n",
      "Time:                      20:55   Pseudo R-bar-squ.:          0.013\n",
      "AIC:                 274,778.938   Log-Likelihood:      -137,380.469\n",
      "BIC:                 274,855.256   LL-Null:             -139,232.811\n",
      "======================================================================================================\n",
      "                                                       coef   std err         z     P>|z|   Conf. Int.\n",
      "------------------------------------------------------------------------------------------------------\n",
      "np.log1p(total_jobs_gen_tt_CAR_45)                   0.2010     0.030     6.709     0.000             \n",
      "np.log1p(sum_income_gen_tt_CAR_45)                  -0.1807     0.025    -7.282     0.000             \n",
      "juris_ave_income                                     0.3031     0.021    14.399     0.000             \n",
      "jobs_1500                                           -0.1288     0.006   -21.900     0.000             \n",
      "residential_units_1500                               0.0503     0.008     6.217     0.000             \n",
      "np.log1p(unit_residential_price)                    -0.1693     0.015   -11.626     0.000             \n",
      "max_hh_commute_auto                                 -0.0475     0.003   -14.222     0.000             \n",
      "np.log1p(max_hh_commute_dist)                        0.1327     0.015     8.644     0.000             \n",
      "max_hh_commute_auto:np.log1p(max_hh_commute_dist)    0.0043     0.000    15.834     0.000             \n",
      "======================================================================================================\n",
      "################## SEGMENT: segment = no commuters ###################\n",
      "                  CHOICEMODELS ESTIMATION RESULTS                  \n",
      "===================================================================\n",
      "Dep. Var.:                chosen   No. Observations:         18,315\n",
      "Model:         Multinomial Logit   Df Residuals:             18,309\n",
      "Method:       Maximum Likelihood   Df Model:                      6\n",
      "Date:                 2020-04-13   Pseudo R-squ.:             0.007\n",
      "Time:                      20:55   Pseudo R-bar-squ.:         0.007\n",
      "AIC:                 142,241.518   Log-Likelihood:      -71,114.759\n",
      "BIC:                 142,288.411   LL-Null:             -71,648.701\n",
      "=======================================================================================\n",
      "                                        coef   std err         z     P>|z|   Conf. Int.\n",
      "---------------------------------------------------------------------------------------\n",
      "np.log1p(total_jobs_gen_tt_CAR_45)   -0.1002     0.036    -2.802     0.005             \n",
      "np.log1p(sum_income_gen_tt_CAR_45)   -0.1259     0.029    -4.276     0.000             \n",
      "juris_ave_income                      0.5083     0.029    17.692     0.000             \n",
      "jobs_1500                            -0.1133     0.008   -13.686     0.000             \n",
      "residential_units_1500                0.0782     0.011     7.001     0.000             \n",
      "np.log1p(unit_residential_price)     -0.1496     0.019    -7.682     0.000             \n",
      "=======================================================================================\n"
     ]
    }
   ],
   "source": [
    "m.fit_all(mct)"
   ]
  }
 ],
 "metadata": {
  "kernelspec": {
   "display_name": "Python [conda env:baus] *",
   "language": "python",
   "name": "conda-env-baus-py"
  },
  "language_info": {
   "codemirror_mode": {
    "name": "ipython",
    "version": 3
   },
   "file_extension": ".py",
   "mimetype": "text/x-python",
   "name": "python",
   "nbconvert_exporter": "python",
   "pygments_lexer": "ipython3",
   "version": "3.6.10"
  }
 },
 "nbformat": 4,
 "nbformat_minor": 4
}
