{
 "cells": [
  {
   "cell_type": "code",
   "execution_count": 1,
   "metadata": {},
   "outputs": [],
   "source": [
    "import pandas as pd\n",
    "import numpy as np\n",
    "from tqdm import tqdm\n",
    "from sklearn.neighbors import BallTree\n",
    "import geopandas as gpd\n",
    "from shapely.geometry import Point, LineString\n",
    "from pyproj import Proj, transform\n",
    "from matplotlib import pyplot as plt\n",
    "%matplotlib inline"
   ]
  },
  {
   "cell_type": "code",
   "execution_count": 2,
   "metadata": {},
   "outputs": [],
   "source": [
    "from urbansim_templates import modelmanager as mm\n",
    "from urbansim_templates.models import LargeMultinomialLogitStep, SegmentedLargeMultinomialLogitStep\n",
    "from urbansim.utils import misc\n",
    "from urbansim_defaults.utils import yaml_to_class\n",
    "from urbansim.models.util import apply_filter_query\n",
    "import orca\n",
    "import os; os.chdir('../')"
   ]
  },
  {
   "cell_type": "code",
   "execution_count": 3,
   "metadata": {},
   "outputs": [],
   "source": [
    "import warnings;warnings.simplefilter('ignore')\n",
    "from baus import datasources, models, variables, ual\n",
    "from choicemodels import MultinomialLogit\n",
    "from choicemodels.tools import MergedChoiceTable"
   ]
  },
  {
   "cell_type": "code",
   "execution_count": 4,
   "metadata": {},
   "outputs": [],
   "source": [
    "orca.add_injectable(\"year\", 2015)"
   ]
  },
  {
   "cell_type": "code",
   "execution_count": 5,
   "metadata": {},
   "outputs": [
    {
     "name": "stdout",
     "output_type": "stream",
     "text": [
      "Running step 'generate_skims_vars'\n",
      "Calculating number of households for zones\n",
      "Calculating mean_persons of households for zones\n",
      "Calculating median_persons of households for zones\n",
      "Calculating std_persons of households for zones\n",
      "Calculating sum_persons of households for zones\n",
      "Calculating mean_income of households for zones\n",
      "Calculating median_income of households for zones\n",
      "Calculating std_income of households for zones\n",
      "Calculating sum_income of households for zones\n",
      "Calculating number of jobs for zones\n",
      "Calculating mean_sector_id of jobs for zones\n",
      "Calculating median_sector_id of jobs for zones\n",
      "Calculating std_sector_id of jobs for zones\n",
      "Calculating number of buildings for zones\n",
      "Calculating mean_residential_units of buildings for zones\n",
      "Calculating median_residential_units of buildings for zones\n",
      "Calculating std_residential_units of buildings for zones\n",
      "Calculating sum_residential_units of buildings for zones\n",
      "Time to execute step 'generate_skims_vars': 50.02 s\n",
      "Running step 'skims_aggregations_drive'\n",
      "Time to execute step 'skims_aggregations_drive': 0.00 s\n",
      "Running step 'neighborhood_vars'\n",
      "Computing accessibility variables\n",
      "Computing retail_sqft_3000\n",
      "Computing sum_income_3000\n",
      "Removed 189769 rows because they contain missing values\n",
      "Computing residential_units_500\n",
      "Computing residential_units_1500\n",
      "Computing office_1500\n",
      "Computing retail_1500\n",
      "Computing industrial_1500\n",
      "Computing ave_sqft_per_unit\n",
      "Computing ave_lot_size_per_unit\n",
      "Computing population\n",
      "Computing poor\n",
      "Computing renters\n",
      "Computing sfdu\n",
      "Computing ave_hhsize\n",
      "Computing jobs_500\n",
      "Computing jobs_1500\n",
      "Computing ave_income_1500\n",
      "Computing ave_income_500\n",
      "       retail_sqft_3000  sum_income_3000  residential_units_500  \\\n",
      "count      4.157160e+05     4.157160e+05          415716.000000   \n",
      "mean       8.410434e+05     1.435924e+09               3.351021   \n",
      "std        1.061719e+06     1.794314e+09               2.157526   \n",
      "min        0.000000e+00     0.000000e+00               0.000000   \n",
      "25%        1.554463e+05     5.023922e+08               1.098612   \n",
      "50%        5.472627e+05     1.040689e+09               4.124656   \n",
      "75%        1.139002e+06     1.765466e+09               5.010687   \n",
      "max        2.399194e+07     1.796125e+10              12.127992   \n",
      "\n",
      "       residential_units_1500    office_1500    retail_1500  industrial_1500  \\\n",
      "count           415716.000000  415716.000000  415716.000000    415716.000000   \n",
      "mean                 5.731420       5.231771       4.506911         3.139300   \n",
      "std                  2.425677       2.676107       2.697748         2.890921   \n",
      "min                  0.000000       0.000000       0.000000         0.000000   \n",
      "25%                  5.230110       3.993111       2.527615         0.000000   \n",
      "50%                  6.604959       5.808030       5.410781         3.120636   \n",
      "75%                  7.247793       7.078414       6.575034         5.735271   \n",
      "max                 12.127992      12.159766      10.888688        10.213689   \n",
      "\n",
      "       ave_sqft_per_unit  ave_lot_size_per_unit     population           poor  \\\n",
      "count      415716.000000          415716.000000  415716.000000  415716.000000   \n",
      "mean            6.817009               8.054446       6.507187       4.782107   \n",
      "std             2.127680               2.661079       2.635568       2.324958   \n",
      "min             0.000000               0.000000       0.000000       0.000000   \n",
      "25%             7.225752               8.217994       6.091566       3.779110   \n",
      "50%             7.416214               8.646272       7.509783       5.420856   \n",
      "75%             7.594037               8.986337       8.149451       6.384902   \n",
      "max             8.699681              18.123512      12.891540      11.291069   \n",
      "\n",
      "        renters           sfdu     ave_hhsize       jobs_500      jobs_1500  \\\n",
      "count  415716.0  415716.000000  415716.000000  415716.000000  415716.000000   \n",
      "mean        0.0       4.930122       1.193134       3.333450       5.770632   \n",
      "std         0.0       2.263214       0.394438       2.210278       2.352008   \n",
      "min         0.0       0.000000       0.000000       0.000000       0.000000   \n",
      "25%         0.0       4.218274       1.192089       1.534158       4.799487   \n",
      "50%         0.0       5.843946       1.294566       3.419220       6.339351   \n",
      "75%         0.0       6.483309       1.385195       5.185312       7.363243   \n",
      "max         0.0      11.723243       2.995732      11.895347      11.895347   \n",
      "\n",
      "       ave_income_1500  ave_income_500  \n",
      "count    415716.000000   415716.000000  \n",
      "mean         10.863171        9.067890  \n",
      "std           3.399087        4.646005  \n",
      "min           0.000000        0.000000  \n",
      "25%          11.593593       10.596660  \n",
      "50%          11.918397       11.302217  \n",
      "75%          12.131354       11.686887  \n",
      "max          13.826451       13.826451  \n",
      "Time to execute step 'neighborhood_vars': 93.26 s\n",
      "Running step 'price_vars'\n",
      "Computing accessibility variables\n",
      "Computing residential\n",
      "Removed 128235 rows because they contain missing values\n",
      "Computing retail\n",
      "Computing office\n",
      "Computing industrial\n",
      "         residential         retail         office     industrial\n",
      "count  415716.000000  415716.000000  415716.000000  415716.000000\n",
      "mean       -0.068968      -0.142263      -0.077680      -0.252276\n",
      "std         0.253400       0.349320       0.267668       0.434319\n",
      "min        -1.000000      -1.000000      -1.000000      -1.000000\n",
      "25%         0.000000       0.000000       0.000000      -1.000000\n",
      "50%         0.000000       0.000000       0.000000       0.000000\n",
      "75%         0.000000       0.000000       0.000000       0.000000\n",
      "max         0.000000       0.000000       0.000000       0.000000\n",
      "Time to execute step 'price_vars': 5.29 s\n",
      "Total time to execute iteration 1 with iteration value None: 148.58 s\n"
     ]
    }
   ],
   "source": [
    "orca.run([\n",
    "    \"generate_skims_vars\",\n",
    "    \"skims_aggregations_drive\",\n",
    "    \"neighborhood_vars\",\n",
    "    \"price_vars\"\n",
    "])"
   ]
  },
  {
   "cell_type": "code",
   "execution_count": 6,
   "metadata": {},
   "outputs": [
    {
     "name": "stdout",
     "output_type": "stream",
     "text": [
      "Running step 'wlcm_simulate'\n",
      "Registering model step 'wlcm'\n",
      "Describe of development projects\n",
      "          parcel_id  residential_units  residential_sqft  sqft_per_unit  \\\n",
      "count  2.431000e+03        2431.000000            2431.0     741.000000   \n",
      "mean   1.051065e+06         131.194981               0.0     904.892038   \n",
      "std    5.938067e+05         368.788354               0.0     434.518082   \n",
      "min    1.900000e+01           0.000000               0.0       0.000000   \n",
      "25%    5.758060e+05           0.000000               0.0     853.000000   \n",
      "50%    1.113052e+06          24.000000               0.0     925.000000   \n",
      "75%    1.414510e+06         127.000000               0.0    1200.000000   \n",
      "max    2.052766e+06        9400.000000               0.0    2500.000000   \n",
      "\n",
      "       non_residential_sqft  building_sqft      stories   year_built  \\\n",
      "count          2.431000e+03   2.431000e+03  2431.000000  2431.000000   \n",
      "mean           6.248265e+04   2.277823e+05     2.477170  2019.361580   \n",
      "std            2.662721e+05   6.489485e+05     4.822038     7.946767   \n",
      "min            0.000000e+00   0.000000e+00     1.000000  2015.000000   \n",
      "25%            0.000000e+00   1.978300e+04     1.000000  2015.000000   \n",
      "50%            0.000000e+00   7.077500e+04     1.000000  2015.000000   \n",
      "75%            1.579400e+04   2.235000e+05     2.000000  2020.000000   \n",
      "max            5.100000e+06   2.068000e+07    70.000000  2104.000000   \n",
      "\n",
      "       redfin_sale_price  redfin_sale_year  building_type_id  \\\n",
      "count                0.0            2431.0        444.000000   \n",
      "mean                 NaN            2012.0          6.936937   \n",
      "std                  NaN               0.0          4.228847   \n",
      "min                  NaN            2012.0          1.000000   \n",
      "25%                  NaN            2012.0          3.000000   \n",
      "50%                  NaN            2012.0          4.000000   \n",
      "75%                  NaN            2012.0         12.000000   \n",
      "max                  NaN            2012.0         14.000000   \n",
      "\n",
      "       residential_price  non_residential_rent  deed_restricted_units  \n",
      "count             2431.0                2431.0                 2431.0  \n",
      "mean                 0.0                   0.0                    0.0  \n",
      "std                  0.0                   0.0                    0.0  \n",
      "min                  0.0                   0.0                    0.0  \n",
      "25%                  0.0                   0.0                    0.0  \n",
      "50%                  0.0                   0.0                    0.0  \n",
      "75%                  0.0                   0.0                    0.0  \n",
      "max                  0.0                   0.0                    0.0  \n",
      "Calculating number of households for parcels\n",
      "Calculating mean_persons of households for parcels\n",
      "Calculating median_persons of households for parcels\n",
      "Calculating std_persons of households for parcels\n",
      "Calculating sum_persons of households for parcels\n",
      "Calculating mean_income of households for parcels\n",
      "Calculating median_income of households for parcels\n",
      "Calculating std_income of households for parcels\n",
      "Calculating sum_income of households for parcels\n",
      "Calculating number of jobs for parcels\n",
      "Calculating mean_sector_id of jobs for parcels\n",
      "Calculating median_sector_id of jobs for parcels\n",
      "Calculating std_sector_id of jobs for parcels\n",
      "Calculating number of buildings for parcels\n",
      "Calculating mean_residential_units of buildings for parcels\n",
      "Calculating median_residential_units of buildings for parcels\n",
      "Calculating std_residential_units of buildings for parcels\n",
      "Calculating sum_residential_units of buildings for parcels\n",
      "Calculating number of jobs for zones\n",
      "Iteration 1: 191358 of 3293834 valid choices\n",
      "Iteration 2: 381924 of 3293834 valid choices\n",
      "Iteration 3: 571754 of 3293834 valid choices\n",
      "Iteration 4: 760481 of 3293834 valid choices\n",
      "Iteration 5: 948177 of 3293834 valid choices\n",
      "Iteration 6: 1134455 of 3293834 valid choices\n",
      "Iteration 7: 1319042 of 3293834 valid choices\n",
      "Iteration 8: 1501441 of 3293834 valid choices\n",
      "Iteration 9: 1681096 of 3293834 valid choices\n",
      "Iteration 10: 1857178 of 3293834 valid choices\n",
      "Iteration 11: 2027649 of 3293834 valid choices\n",
      "Iteration 12: 2189798 of 3293834 valid choices\n",
      "Iteration 13: 2339623 of 3293834 valid choices\n",
      "Iteration 14: 2465780 of 3293834 valid choices\n",
      "Iteration 15: 2549663 of 3293834 valid choices\n",
      "Iteration 16: 2576154 of 3293834 valid choices\n",
      "Iteration 17: 2578046 of 3293834 valid choices\n",
      "No valid alternatives for the remaining choosers\n",
      "Time to execute step 'wlcm_simulate': 250.90 s\n",
      "Total time to execute iteration 1 with iteration value None: 250.90 s\n"
     ]
    }
   ],
   "source": [
    "orca.run([\"wlcm_simulate\"])"
   ]
  },
  {
   "cell_type": "code",
   "execution_count": 7,
   "metadata": {},
   "outputs": [
    {
     "name": "stdout",
     "output_type": "stream",
     "text": [
      "Registering model step 'wlcm'\n"
     ]
    }
   ],
   "source": [
    "mm.initialize()"
   ]
  },
  {
   "cell_type": "code",
   "execution_count": 8,
   "metadata": {},
   "outputs": [],
   "source": [
    "config = misc.config(\"hlcm_owner.yaml\")"
   ]
  },
  {
   "cell_type": "code",
   "execution_count": 9,
   "metadata": {},
   "outputs": [],
   "source": [
    "config = yaml_to_class(config).from_yaml(str_or_buffer=config)"
   ]
  },
  {
   "cell_type": "code",
   "execution_count": 10,
   "metadata": {},
   "outputs": [
    {
     "data": {
      "text/plain": [
       "\"(tenure == 'own' & income > 0)\""
      ]
     },
     "execution_count": 10,
     "metadata": {},
     "output_type": "execute_result"
    }
   ],
   "source": [
    "config.choosers_fit_filters"
   ]
  },
  {
   "cell_type": "code",
   "execution_count": 11,
   "metadata": {},
   "outputs": [],
   "source": [
    "config.alts_fit_filters"
   ]
  },
  {
   "cell_type": "code",
   "execution_count": 34,
   "metadata": {},
   "outputs": [],
   "source": [
    "config.choice_column"
   ]
  },
  {
   "cell_type": "code",
   "execution_count": 12,
   "metadata": {},
   "outputs": [
    {
     "data": {
      "text/plain": [
       "50"
      ]
     },
     "execution_count": 12,
     "metadata": {},
     "output_type": "execute_result"
    }
   ],
   "source": [
    "config.sample_size"
   ]
  },
  {
   "cell_type": "code",
   "execution_count": 13,
   "metadata": {},
   "outputs": [
    {
     "data": {
      "text/plain": [
       "'np.log1p(total_jobs_gen_tt_CAR_45) + np.log1p(sum_income_gen_tt_CAR_45) + juris_ave_income + jobs_1500 + residential_units_1500 + np.log1p(unit_residential_price) + np.log1p(sqft_per_unit) + sfdu'"
      ]
     },
     "execution_count": 13,
     "metadata": {},
     "output_type": "execute_result"
    }
   ],
   "source": [
    "config.default_model_expr"
   ]
  },
  {
   "cell_type": "code",
   "execution_count": 14,
   "metadata": {},
   "outputs": [],
   "source": [
    "chooser_filters = ['tenure == \"own\"', 'income > 0']\n",
    "alt_sample_size = 50"
   ]
  },
  {
   "cell_type": "markdown",
   "metadata": {},
   "source": [
    "### Create Merged Choice Table"
   ]
  },
  {
   "cell_type": "markdown",
   "metadata": {},
   "source": [
    "- Have to merge persons-level attributes (i.e. commutes) AFTER creating the merged choice table on households"
   ]
  },
  {
   "cell_type": "code",
   "execution_count": 15,
   "metadata": {},
   "outputs": [
    {
     "name": "stdout",
     "output_type": "stream",
     "text": [
      "Calculating number of households for parcels\n",
      "Calculating mean_persons of households for parcels\n",
      "Calculating median_persons of households for parcels\n",
      "Calculating std_persons of households for parcels\n",
      "Calculating sum_persons of households for parcels\n",
      "Calculating mean_income of households for parcels\n",
      "Calculating median_income of households for parcels\n",
      "Calculating std_income of households for parcels\n",
      "Calculating sum_income of households for parcels\n",
      "Calculating number of jobs for parcels\n",
      "Calculating mean_sector_id of jobs for parcels\n",
      "Calculating median_sector_id of jobs for parcels\n",
      "Calculating std_sector_id of jobs for parcels\n",
      "Calculating number of buildings for parcels\n",
      "Calculating mean_residential_units of buildings for parcels\n",
      "Calculating median_residential_units of buildings for parcels\n",
      "Calculating std_residential_units of buildings for parcels\n",
      "Calculating sum_residential_units of buildings for parcels\n"
     ]
    }
   ],
   "source": [
    "obs = orca.get_table('households').to_frame().sample(100000)"
   ]
  },
  {
   "cell_type": "code",
   "execution_count": 16,
   "metadata": {},
   "outputs": [],
   "source": [
    "obs = apply_filter_query(obs, filters=chooser_filters)\n",
    "obs = obs[['unit_id', 'tenure', 'income']]"
   ]
  },
  {
   "cell_type": "code",
   "execution_count": 17,
   "metadata": {},
   "outputs": [
    {
     "name": "stdout",
     "output_type": "stream",
     "text": [
      "Calculating number of households for zones\n",
      "Calculating mean_persons of households for zones\n",
      "Calculating median_persons of households for zones\n",
      "Calculating std_persons of households for zones\n",
      "Calculating sum_persons of households for zones\n",
      "Calculating mean_income of households for zones\n",
      "Calculating median_income of households for zones\n",
      "Calculating std_income of households for zones\n",
      "Calculating sum_income of households for zones\n",
      "Calculating number of jobs for zones\n",
      "Calculating mean_sector_id of jobs for zones\n",
      "Calculating median_sector_id of jobs for zones\n",
      "Calculating std_sector_id of jobs for zones\n",
      "Calculating number of buildings for zones\n",
      "Calculating mean_residential_units of buildings for zones\n",
      "Calculating median_residential_units of buildings for zones\n",
      "Calculating std_residential_units of buildings for zones\n",
      "Calculating sum_residential_units of buildings for zones\n"
     ]
    }
   ],
   "source": [
    "alts = orca.merge_tables(\n",
    "    'residential_units', ['residential_units'] + orca.get_injectable('aggregations') + ['buildings', 'zones'] )"
   ]
  },
  {
   "cell_type": "code",
   "execution_count": 18,
   "metadata": {},
   "outputs": [],
   "source": [
    "alts.rename(columns={'zone_id': 'zone_id_home'}, inplace=True)"
   ]
  },
  {
   "cell_type": "code",
   "execution_count": 19,
   "metadata": {},
   "outputs": [],
   "source": [
    "alts = alts[[\n",
    "    'total_jobs_gen_tt_CAR_45', 'sum_income_gen_tt_CAR_45', 'juris_ave_income', 'jobs_1500',\n",
    "    'residential_units_1500', 'unit_residential_price', 'sqft_per_unit', 'sfdu', 'zone_id_home'\n",
    "]]"
   ]
  },
  {
   "cell_type": "code",
   "execution_count": 20,
   "metadata": {},
   "outputs": [],
   "source": [
    "interaction_terms = orca.get_table('beam_skims_imputed').to_frame().rename_axis(\n",
    "            ['zone_id_home', 'zone_id_work'])[['gen_tt_CAR', 'gen_tt_WALK_TRANSIT']]\n",
    "\n",
    "interaction_terms = interaction_terms.reset_index().set_index(['zone_id_work', 'zone_id_home'])"
   ]
  },
  {
   "cell_type": "code",
   "execution_count": 21,
   "metadata": {},
   "outputs": [],
   "source": [
    "mct = MergedChoiceTable(\n",
    "    obs, alts,\n",
    "    chosen_alternatives='unit_id',\n",
    "    sample_size=alt_sample_size,\n",
    "                       )"
   ]
  },
  {
   "cell_type": "code",
   "execution_count": 22,
   "metadata": {},
   "outputs": [
    {
     "data": {
      "text/html": [
       "<div>\n",
       "<style scoped>\n",
       "    .dataframe tbody tr th:only-of-type {\n",
       "        vertical-align: middle;\n",
       "    }\n",
       "\n",
       "    .dataframe tbody tr th {\n",
       "        vertical-align: top;\n",
       "    }\n",
       "\n",
       "    .dataframe thead th {\n",
       "        text-align: right;\n",
       "    }\n",
       "</style>\n",
       "<table border=\"1\" class=\"dataframe\">\n",
       "  <thead>\n",
       "    <tr style=\"text-align: right;\">\n",
       "      <th></th>\n",
       "      <th>household_id</th>\n",
       "      <th>unit_id</th>\n",
       "      <th>tenure</th>\n",
       "      <th>income</th>\n",
       "      <th>total_jobs_gen_tt_CAR_45</th>\n",
       "      <th>sum_income_gen_tt_CAR_45</th>\n",
       "      <th>juris_ave_income</th>\n",
       "      <th>jobs_1500</th>\n",
       "      <th>residential_units_1500</th>\n",
       "      <th>unit_residential_price</th>\n",
       "      <th>sqft_per_unit</th>\n",
       "      <th>sfdu</th>\n",
       "      <th>zone_id_home</th>\n",
       "      <th>chosen</th>\n",
       "    </tr>\n",
       "  </thead>\n",
       "  <tbody>\n",
       "    <tr>\n",
       "      <th>0</th>\n",
       "      <td>2679662</td>\n",
       "      <td>255690</td>\n",
       "      <td>own</td>\n",
       "      <td>285000.0</td>\n",
       "      <td>5408.0</td>\n",
       "      <td>1.167622e+09</td>\n",
       "      <td>11.115443</td>\n",
       "      <td>11.895347</td>\n",
       "      <td>12.127992</td>\n",
       "      <td>0.0</td>\n",
       "      <td>1655.200203</td>\n",
       "      <td>11.723243</td>\n",
       "      <td>1403.0</td>\n",
       "      <td>1</td>\n",
       "    </tr>\n",
       "    <tr>\n",
       "      <th>1</th>\n",
       "      <td>2679662</td>\n",
       "      <td>1180216</td>\n",
       "      <td>own</td>\n",
       "      <td>285000.0</td>\n",
       "      <td>1176928.0</td>\n",
       "      <td>1.290538e+11</td>\n",
       "      <td>11.373675</td>\n",
       "      <td>7.998684</td>\n",
       "      <td>8.420469</td>\n",
       "      <td>0.0</td>\n",
       "      <td>1200.000000</td>\n",
       "      <td>6.616040</td>\n",
       "      <td>65.0</td>\n",
       "      <td>0</td>\n",
       "    </tr>\n",
       "    <tr>\n",
       "      <th>2</th>\n",
       "      <td>2679662</td>\n",
       "      <td>341292</td>\n",
       "      <td>own</td>\n",
       "      <td>285000.0</td>\n",
       "      <td>1365153.0</td>\n",
       "      <td>1.510723e+11</td>\n",
       "      <td>10.933125</td>\n",
       "      <td>8.259623</td>\n",
       "      <td>8.398545</td>\n",
       "      <td>0.0</td>\n",
       "      <td>590.400000</td>\n",
       "      <td>6.787541</td>\n",
       "      <td>975.0</td>\n",
       "      <td>0</td>\n",
       "    </tr>\n",
       "    <tr>\n",
       "      <th>3</th>\n",
       "      <td>2679662</td>\n",
       "      <td>843820</td>\n",
       "      <td>own</td>\n",
       "      <td>285000.0</td>\n",
       "      <td>1140820.0</td>\n",
       "      <td>1.241071e+11</td>\n",
       "      <td>11.243751</td>\n",
       "      <td>6.172249</td>\n",
       "      <td>5.592457</td>\n",
       "      <td>0.0</td>\n",
       "      <td>1297.000000</td>\n",
       "      <td>5.480614</td>\n",
       "      <td>1083.0</td>\n",
       "      <td>0</td>\n",
       "    </tr>\n",
       "    <tr>\n",
       "      <th>4</th>\n",
       "      <td>2679662</td>\n",
       "      <td>2712088</td>\n",
       "      <td>own</td>\n",
       "      <td>285000.0</td>\n",
       "      <td>1285963.0</td>\n",
       "      <td>1.394867e+11</td>\n",
       "      <td>11.373675</td>\n",
       "      <td>10.138785</td>\n",
       "      <td>10.139724</td>\n",
       "      <td>0.0</td>\n",
       "      <td>514.285714</td>\n",
       "      <td>4.723692</td>\n",
       "      <td>32.0</td>\n",
       "      <td>0</td>\n",
       "    </tr>\n",
       "  </tbody>\n",
       "</table>\n",
       "</div>"
      ],
      "text/plain": [
       "   household_id  unit_id tenure    income  total_jobs_gen_tt_CAR_45  \\\n",
       "0       2679662   255690    own  285000.0                    5408.0   \n",
       "1       2679662  1180216    own  285000.0                 1176928.0   \n",
       "2       2679662   341292    own  285000.0                 1365153.0   \n",
       "3       2679662   843820    own  285000.0                 1140820.0   \n",
       "4       2679662  2712088    own  285000.0                 1285963.0   \n",
       "\n",
       "   sum_income_gen_tt_CAR_45  juris_ave_income  jobs_1500  \\\n",
       "0              1.167622e+09         11.115443  11.895347   \n",
       "1              1.290538e+11         11.373675   7.998684   \n",
       "2              1.510723e+11         10.933125   8.259623   \n",
       "3              1.241071e+11         11.243751   6.172249   \n",
       "4              1.394867e+11         11.373675  10.138785   \n",
       "\n",
       "   residential_units_1500  unit_residential_price  sqft_per_unit       sfdu  \\\n",
       "0               12.127992                     0.0    1655.200203  11.723243   \n",
       "1                8.420469                     0.0    1200.000000   6.616040   \n",
       "2                8.398545                     0.0     590.400000   6.787541   \n",
       "3                5.592457                     0.0    1297.000000   5.480614   \n",
       "4               10.139724                     0.0     514.285714   4.723692   \n",
       "\n",
       "   zone_id_home  chosen  \n",
       "0        1403.0       1  \n",
       "1          65.0       0  \n",
       "2         975.0       0  \n",
       "3        1083.0       0  \n",
       "4          32.0       0  "
      ]
     },
     "execution_count": 22,
     "metadata": {},
     "output_type": "execute_result"
    }
   ],
   "source": [
    "mct = mct.to_frame()\n",
    "mct.reset_index(inplace=True)\n",
    "mct.head()"
   ]
  },
  {
   "cell_type": "code",
   "execution_count": 23,
   "metadata": {},
   "outputs": [],
   "source": [
    "persons = orca.get_table('persons').to_frame(columns=['household_id', 'job_id'])\n",
    "jobs = orca.get_table('jobs').to_frame(columns=['zone_id_work'])\n",
    "persons_jobs = pd.merge(persons, jobs, left_on='job_id', right_index=True, how='left')"
   ]
  },
  {
   "cell_type": "code",
   "execution_count": 24,
   "metadata": {},
   "outputs": [],
   "source": [
    "mct_persons = pd.merge(mct, persons_jobs, on='household_id', how='left')\n",
    "mct_persons = mct_persons.join(interaction_terms, how='left', on=interaction_terms.index.names)"
   ]
  },
  {
   "cell_type": "code",
   "execution_count": 25,
   "metadata": {},
   "outputs": [],
   "source": [
    "person_aggs = mct_persons.groupby(['household_id', 'unit_id']).agg(\n",
    "    max_commute_auto = pd.NamedAgg('gen_tt_CAR', 'max'),\n",
    "    max_commute_transit = pd.NamedAgg('gen_tt_WALK_TRANSIT', 'max')\n",
    ").reset_index()"
   ]
  },
  {
   "cell_type": "code",
   "execution_count": 26,
   "metadata": {},
   "outputs": [],
   "source": [
    "mct = pd.merge(mct, person_aggs, on=['household_id', 'unit_id'], how='left')"
   ]
  },
  {
   "cell_type": "code",
   "execution_count": 27,
   "metadata": {},
   "outputs": [],
   "source": [
    "mct.set_index('household_id', inplace=True)"
   ]
  },
  {
   "cell_type": "code",
   "execution_count": 28,
   "metadata": {},
   "outputs": [],
   "source": [
    "mct.index.name = 'obs_id'"
   ]
  },
  {
   "cell_type": "code",
   "execution_count": 29,
   "metadata": {},
   "outputs": [],
   "source": [
    "mct['segment'] = ~pd.isnull(mct['max_commute_auto'])"
   ]
  },
  {
   "cell_type": "code",
   "execution_count": 35,
   "metadata": {},
   "outputs": [],
   "source": [
    "default = LargeMultinomialLogitStep(\n",
    "    choosers=obs,\n",
    "    chooser_filters=chooser_filters,\n",
    "    choice_column='unit_id',\n",
    "    constrained_choices=True,\n",
    "    alternatives=alts,\n",
    "    alt_sample_size=alt_sample_size,\n",
    ")"
   ]
  },
  {
   "cell_type": "code",
   "execution_count": 36,
   "metadata": {},
   "outputs": [],
   "source": [
    "default.model_expression = config.default_model_expr"
   ]
  },
  {
   "cell_type": "code",
   "execution_count": 37,
   "metadata": {},
   "outputs": [],
   "source": [
    "m = SegmentedLargeMultinomialLogitStep(\n",
    "    defaults=default, \n",
    "    segmentation_column='segment'\n",
    ")"
   ]
  },
  {
   "cell_type": "code",
   "execution_count": 39,
   "metadata": {},
   "outputs": [
    {
     "data": {
      "text/plain": [
       "obs_id\n",
       "2679662    False\n",
       "2679662    False\n",
       "2679662    False\n",
       "2679662    False\n",
       "2679662    False\n",
       "           ...  \n",
       "565        False\n",
       "565        False\n",
       "565        False\n",
       "565        False\n",
       "565        False\n",
       "Name: segment, Length: 2857100, dtype: bool"
      ]
     },
     "execution_count": 39,
     "metadata": {},
     "output_type": "execute_result"
    }
   ],
   "source": [
    "mct['segment']"
   ]
  },
  {
   "cell_type": "code",
   "execution_count": 38,
   "metadata": {},
   "outputs": [
    {
     "ename": "KeyError",
     "evalue": "'segment'",
     "output_type": "error",
     "traceback": [
      "\u001b[0;31m---------------------------------------------------------------------------\u001b[0m",
      "\u001b[0;31mKeyError\u001b[0m                                  Traceback (most recent call last)",
      "\u001b[0;32m~/anaconda3/envs/baus/lib/python3.6/site-packages/pandas/core/indexes/base.py\u001b[0m in \u001b[0;36mget_loc\u001b[0;34m(self, key, method, tolerance)\u001b[0m\n\u001b[1;32m   2645\u001b[0m             \u001b[0;32mtry\u001b[0m\u001b[0;34m:\u001b[0m\u001b[0;34m\u001b[0m\u001b[0;34m\u001b[0m\u001b[0m\n\u001b[0;32m-> 2646\u001b[0;31m                 \u001b[0;32mreturn\u001b[0m \u001b[0mself\u001b[0m\u001b[0;34m.\u001b[0m\u001b[0m_engine\u001b[0m\u001b[0;34m.\u001b[0m\u001b[0mget_loc\u001b[0m\u001b[0;34m(\u001b[0m\u001b[0mkey\u001b[0m\u001b[0;34m)\u001b[0m\u001b[0;34m\u001b[0m\u001b[0;34m\u001b[0m\u001b[0m\n\u001b[0m\u001b[1;32m   2647\u001b[0m             \u001b[0;32mexcept\u001b[0m \u001b[0mKeyError\u001b[0m\u001b[0;34m:\u001b[0m\u001b[0;34m\u001b[0m\u001b[0;34m\u001b[0m\u001b[0m\n",
      "\u001b[0;32mpandas/_libs/index.pyx\u001b[0m in \u001b[0;36mpandas._libs.index.IndexEngine.get_loc\u001b[0;34m()\u001b[0m\n",
      "\u001b[0;32mpandas/_libs/index.pyx\u001b[0m in \u001b[0;36mpandas._libs.index.IndexEngine.get_loc\u001b[0;34m()\u001b[0m\n",
      "\u001b[0;32mpandas/_libs/hashtable_class_helper.pxi\u001b[0m in \u001b[0;36mpandas._libs.hashtable.PyObjectHashTable.get_item\u001b[0;34m()\u001b[0m\n",
      "\u001b[0;32mpandas/_libs/hashtable_class_helper.pxi\u001b[0m in \u001b[0;36mpandas._libs.hashtable.PyObjectHashTable.get_item\u001b[0;34m()\u001b[0m\n",
      "\u001b[0;31mKeyError\u001b[0m: 'segment'",
      "\nDuring handling of the above exception, another exception occurred:\n",
      "\u001b[0;31mKeyError\u001b[0m                                  Traceback (most recent call last)",
      "\u001b[0;32m<ipython-input-38-0cbce27cb73a>\u001b[0m in \u001b[0;36m<module>\u001b[0;34m\u001b[0m\n\u001b[0;32m----> 1\u001b[0;31m \u001b[0mm\u001b[0m\u001b[0;34m.\u001b[0m\u001b[0mfit_all\u001b[0m\u001b[0;34m(\u001b[0m\u001b[0mmct\u001b[0m\u001b[0;34m=\u001b[0m\u001b[0mmct\u001b[0m\u001b[0;34m)\u001b[0m\u001b[0;34m\u001b[0m\u001b[0;34m\u001b[0m\u001b[0m\n\u001b[0m",
      "\u001b[0;32m~/src/urbansim_templates/urbansim_templates/models/segmented_large_multinomial_logit.py\u001b[0m in \u001b[0;36mfit_all\u001b[0;34m(self, mct)\u001b[0m\n\u001b[1;32m    228\u001b[0m         \"\"\"\n\u001b[1;32m    229\u001b[0m         \u001b[0;32mif\u001b[0m \u001b[0;34m(\u001b[0m\u001b[0mlen\u001b[0m\u001b[0;34m(\u001b[0m\u001b[0mself\u001b[0m\u001b[0;34m.\u001b[0m\u001b[0msubmodels\u001b[0m\u001b[0;34m)\u001b[0m \u001b[0;34m==\u001b[0m \u001b[0;36m0\u001b[0m\u001b[0;34m)\u001b[0m\u001b[0;34m:\u001b[0m\u001b[0;34m\u001b[0m\u001b[0;34m\u001b[0m\u001b[0m\n\u001b[0;32m--> 230\u001b[0;31m             \u001b[0mself\u001b[0m\u001b[0;34m.\u001b[0m\u001b[0mbuild_submodels\u001b[0m\u001b[0;34m(\u001b[0m\u001b[0;34m)\u001b[0m\u001b[0;34m\u001b[0m\u001b[0;34m\u001b[0m\u001b[0m\n\u001b[0m\u001b[1;32m    231\u001b[0m \u001b[0;34m\u001b[0m\u001b[0m\n\u001b[1;32m    232\u001b[0m         \u001b[0;32mfor\u001b[0m \u001b[0mk\u001b[0m\u001b[0;34m,\u001b[0m \u001b[0mm\u001b[0m \u001b[0;32min\u001b[0m \u001b[0mself\u001b[0m\u001b[0;34m.\u001b[0m\u001b[0msubmodels\u001b[0m\u001b[0;34m.\u001b[0m\u001b[0mitems\u001b[0m\u001b[0;34m(\u001b[0m\u001b[0;34m)\u001b[0m\u001b[0;34m:\u001b[0m\u001b[0;34m\u001b[0m\u001b[0;34m\u001b[0m\u001b[0m\n",
      "\u001b[0;32m~/src/urbansim_templates/urbansim_templates/models/segmented_large_multinomial_logit.py\u001b[0m in \u001b[0;36mbuild_submodels\u001b[0;34m(self)\u001b[0m\n\u001b[1;32m    157\u001b[0m         \u001b[0msubmodel\u001b[0m \u001b[0;34m=\u001b[0m \u001b[0mLargeMultinomialLogitStep\u001b[0m\u001b[0;34m.\u001b[0m\u001b[0mfrom_dict\u001b[0m\u001b[0;34m(\u001b[0m\u001b[0mself\u001b[0m\u001b[0;34m.\u001b[0m\u001b[0mdefaults\u001b[0m\u001b[0;34m.\u001b[0m\u001b[0mto_dict\u001b[0m\u001b[0;34m(\u001b[0m\u001b[0;34m)\u001b[0m\u001b[0;34m)\u001b[0m\u001b[0;34m\u001b[0m\u001b[0;34m\u001b[0m\u001b[0m\n\u001b[1;32m    158\u001b[0m \u001b[0;34m\u001b[0m\u001b[0m\n\u001b[0;32m--> 159\u001b[0;31m         \u001b[0mcol\u001b[0m \u001b[0;34m=\u001b[0m \u001b[0mself\u001b[0m\u001b[0;34m.\u001b[0m\u001b[0mget_segmentation_column\u001b[0m\u001b[0;34m(\u001b[0m\u001b[0;34m)\u001b[0m\u001b[0;34m\u001b[0m\u001b[0;34m\u001b[0m\u001b[0m\n\u001b[0m\u001b[1;32m    160\u001b[0m \u001b[0;34m\u001b[0m\u001b[0m\n\u001b[1;32m    161\u001b[0m         \u001b[0;32mif\u001b[0m \u001b[0;34m(\u001b[0m\u001b[0mlen\u001b[0m\u001b[0;34m(\u001b[0m\u001b[0mcol\u001b[0m\u001b[0;34m)\u001b[0m \u001b[0;34m==\u001b[0m \u001b[0;36m0\u001b[0m\u001b[0;34m)\u001b[0m\u001b[0;34m:\u001b[0m\u001b[0;34m\u001b[0m\u001b[0;34m\u001b[0m\u001b[0m\n",
      "\u001b[0;32m~/src/urbansim_templates/urbansim_templates/models/segmented_large_multinomial_logit.py\u001b[0m in \u001b[0;36mget_segmentation_column\u001b[0;34m(self)\u001b[0m\n\u001b[1;32m    142\u001b[0m                       left_on=self.defaults.choice_column, right_index=True)\n\u001b[1;32m    143\u001b[0m \u001b[0;34m\u001b[0m\u001b[0m\n\u001b[0;32m--> 144\u001b[0;31m         \u001b[0;32mreturn\u001b[0m \u001b[0mdf\u001b[0m\u001b[0;34m[\u001b[0m\u001b[0mself\u001b[0m\u001b[0;34m.\u001b[0m\u001b[0msegmentation_column\u001b[0m\u001b[0;34m]\u001b[0m\u001b[0;34m\u001b[0m\u001b[0;34m\u001b[0m\u001b[0m\n\u001b[0m\u001b[1;32m    145\u001b[0m \u001b[0;34m\u001b[0m\u001b[0m\n\u001b[1;32m    146\u001b[0m \u001b[0;34m\u001b[0m\u001b[0m\n",
      "\u001b[0;32m~/anaconda3/envs/baus/lib/python3.6/site-packages/pandas/core/frame.py\u001b[0m in \u001b[0;36m__getitem__\u001b[0;34m(self, key)\u001b[0m\n\u001b[1;32m   2798\u001b[0m             \u001b[0;32mif\u001b[0m \u001b[0mself\u001b[0m\u001b[0;34m.\u001b[0m\u001b[0mcolumns\u001b[0m\u001b[0;34m.\u001b[0m\u001b[0mnlevels\u001b[0m \u001b[0;34m>\u001b[0m \u001b[0;36m1\u001b[0m\u001b[0;34m:\u001b[0m\u001b[0;34m\u001b[0m\u001b[0;34m\u001b[0m\u001b[0m\n\u001b[1;32m   2799\u001b[0m                 \u001b[0;32mreturn\u001b[0m \u001b[0mself\u001b[0m\u001b[0;34m.\u001b[0m\u001b[0m_getitem_multilevel\u001b[0m\u001b[0;34m(\u001b[0m\u001b[0mkey\u001b[0m\u001b[0;34m)\u001b[0m\u001b[0;34m\u001b[0m\u001b[0;34m\u001b[0m\u001b[0m\n\u001b[0;32m-> 2800\u001b[0;31m             \u001b[0mindexer\u001b[0m \u001b[0;34m=\u001b[0m \u001b[0mself\u001b[0m\u001b[0;34m.\u001b[0m\u001b[0mcolumns\u001b[0m\u001b[0;34m.\u001b[0m\u001b[0mget_loc\u001b[0m\u001b[0;34m(\u001b[0m\u001b[0mkey\u001b[0m\u001b[0;34m)\u001b[0m\u001b[0;34m\u001b[0m\u001b[0;34m\u001b[0m\u001b[0m\n\u001b[0m\u001b[1;32m   2801\u001b[0m             \u001b[0;32mif\u001b[0m \u001b[0mis_integer\u001b[0m\u001b[0;34m(\u001b[0m\u001b[0mindexer\u001b[0m\u001b[0;34m)\u001b[0m\u001b[0;34m:\u001b[0m\u001b[0;34m\u001b[0m\u001b[0;34m\u001b[0m\u001b[0m\n\u001b[1;32m   2802\u001b[0m                 \u001b[0mindexer\u001b[0m \u001b[0;34m=\u001b[0m \u001b[0;34m[\u001b[0m\u001b[0mindexer\u001b[0m\u001b[0;34m]\u001b[0m\u001b[0;34m\u001b[0m\u001b[0;34m\u001b[0m\u001b[0m\n",
      "\u001b[0;32m~/anaconda3/envs/baus/lib/python3.6/site-packages/pandas/core/indexes/base.py\u001b[0m in \u001b[0;36mget_loc\u001b[0;34m(self, key, method, tolerance)\u001b[0m\n\u001b[1;32m   2646\u001b[0m                 \u001b[0;32mreturn\u001b[0m \u001b[0mself\u001b[0m\u001b[0;34m.\u001b[0m\u001b[0m_engine\u001b[0m\u001b[0;34m.\u001b[0m\u001b[0mget_loc\u001b[0m\u001b[0;34m(\u001b[0m\u001b[0mkey\u001b[0m\u001b[0;34m)\u001b[0m\u001b[0;34m\u001b[0m\u001b[0;34m\u001b[0m\u001b[0m\n\u001b[1;32m   2647\u001b[0m             \u001b[0;32mexcept\u001b[0m \u001b[0mKeyError\u001b[0m\u001b[0;34m:\u001b[0m\u001b[0;34m\u001b[0m\u001b[0;34m\u001b[0m\u001b[0m\n\u001b[0;32m-> 2648\u001b[0;31m                 \u001b[0;32mreturn\u001b[0m \u001b[0mself\u001b[0m\u001b[0;34m.\u001b[0m\u001b[0m_engine\u001b[0m\u001b[0;34m.\u001b[0m\u001b[0mget_loc\u001b[0m\u001b[0;34m(\u001b[0m\u001b[0mself\u001b[0m\u001b[0;34m.\u001b[0m\u001b[0m_maybe_cast_indexer\u001b[0m\u001b[0;34m(\u001b[0m\u001b[0mkey\u001b[0m\u001b[0;34m)\u001b[0m\u001b[0;34m)\u001b[0m\u001b[0;34m\u001b[0m\u001b[0;34m\u001b[0m\u001b[0m\n\u001b[0m\u001b[1;32m   2649\u001b[0m         \u001b[0mindexer\u001b[0m \u001b[0;34m=\u001b[0m \u001b[0mself\u001b[0m\u001b[0;34m.\u001b[0m\u001b[0mget_indexer\u001b[0m\u001b[0;34m(\u001b[0m\u001b[0;34m[\u001b[0m\u001b[0mkey\u001b[0m\u001b[0;34m]\u001b[0m\u001b[0;34m,\u001b[0m \u001b[0mmethod\u001b[0m\u001b[0;34m=\u001b[0m\u001b[0mmethod\u001b[0m\u001b[0;34m,\u001b[0m \u001b[0mtolerance\u001b[0m\u001b[0;34m=\u001b[0m\u001b[0mtolerance\u001b[0m\u001b[0;34m)\u001b[0m\u001b[0;34m\u001b[0m\u001b[0;34m\u001b[0m\u001b[0m\n\u001b[1;32m   2650\u001b[0m         \u001b[0;32mif\u001b[0m \u001b[0mindexer\u001b[0m\u001b[0;34m.\u001b[0m\u001b[0mndim\u001b[0m \u001b[0;34m>\u001b[0m \u001b[0;36m1\u001b[0m \u001b[0;32mor\u001b[0m \u001b[0mindexer\u001b[0m\u001b[0;34m.\u001b[0m\u001b[0msize\u001b[0m \u001b[0;34m>\u001b[0m \u001b[0;36m1\u001b[0m\u001b[0;34m:\u001b[0m\u001b[0;34m\u001b[0m\u001b[0;34m\u001b[0m\u001b[0m\n",
      "\u001b[0;32mpandas/_libs/index.pyx\u001b[0m in \u001b[0;36mpandas._libs.index.IndexEngine.get_loc\u001b[0;34m()\u001b[0m\n",
      "\u001b[0;32mpandas/_libs/index.pyx\u001b[0m in \u001b[0;36mpandas._libs.index.IndexEngine.get_loc\u001b[0;34m()\u001b[0m\n",
      "\u001b[0;32mpandas/_libs/hashtable_class_helper.pxi\u001b[0m in \u001b[0;36mpandas._libs.hashtable.PyObjectHashTable.get_item\u001b[0;34m()\u001b[0m\n",
      "\u001b[0;32mpandas/_libs/hashtable_class_helper.pxi\u001b[0m in \u001b[0;36mpandas._libs.hashtable.PyObjectHashTable.get_item\u001b[0;34m()\u001b[0m\n",
      "\u001b[0;31mKeyError\u001b[0m: 'segment'"
     ]
    }
   ],
   "source": [
    "m.fit_all(mct=mct)"
   ]
  },
  {
   "cell_type": "code",
   "execution_count": null,
   "metadata": {},
   "outputs": [],
   "source": []
  }
 ],
 "metadata": {
  "kernelspec": {
   "display_name": "Python [conda env:baus] *",
   "language": "python",
   "name": "conda-env-baus-py"
  },
  "language_info": {
   "codemirror_mode": {
    "name": "ipython",
    "version": 3
   },
   "file_extension": ".py",
   "mimetype": "text/x-python",
   "name": "python",
   "nbconvert_exporter": "python",
   "pygments_lexer": "ipython3",
   "version": "3.6.10"
  }
 },
 "nbformat": 4,
 "nbformat_minor": 4
}
