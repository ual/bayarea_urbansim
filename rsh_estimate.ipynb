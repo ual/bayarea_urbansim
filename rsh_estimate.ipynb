{
 "cells": [
  {
   "cell_type": "code",
   "execution_count": 1,
   "metadata": {},
   "outputs": [],
   "source": [
    "from baus import models, datasources, variables\n",
    "from baus import ual\n",
    "from baus import validation\n",
    "from baus.utils import round_series_match_target, random_indexes\n",
    "import numpy as np\n",
    "import pandas as pd\n",
    "import orca\n",
    "from baus.utils import compare_summary\n",
    "from urbansim.utils import misc"
   ]
  },
  {
   "cell_type": "code",
   "execution_count": 5,
   "metadata": {
    "scrolled": true
   },
   "outputs": [
    {
     "name": "stdout",
     "output_type": "stream",
     "text": [
      "Running step 'neighborhood_vars'\n"
     ]
    },
    {
     "name": "stderr",
     "output_type": "stream",
     "text": [
      "/Users/conorhenley/anaconda/lib/python2.7/site-packages/pandana-0.3.0-py2.7-macosx-10.9-x86_64.egg/pandana/network.py:132: FutureWarning: Method .as_matrix will be removed in a future version. Use .values instead.\n",
      "  nodes_df.as_matrix().astype('float32'),\n",
      "/Users/conorhenley/anaconda/lib/python2.7/site-packages/pandana-0.3.0-py2.7-macosx-10.9-x86_64.egg/pandana/network.py:133: FutureWarning: Method .as_matrix will be removed in a future version. Use .values instead.\n",
      "  edges.as_matrix().astype('int32'),\n",
      "/Users/conorhenley/anaconda/lib/python2.7/site-packages/pandana-0.3.0-py2.7-macosx-10.9-x86_64.egg/pandana/network.py:134: FutureWarning: Method .as_matrix will be removed in a future version. Use .values instead.\n",
      "  edges_df[edge_weights.columns].transpose()\n"
     ]
    },
    {
     "name": "stdout",
     "output_type": "stream",
     "text": [
      "Computing accessibility variables\n",
      "Computing retail_sqft_3000\n",
      "Computing sum_income_3000\n",
      "Computing residential_units_500\n",
      "Computing residential_units_1500\n",
      "Computing office_1500\n",
      "Computing retail_1500\n",
      "Computing industrial_1500\n",
      "Computing ave_sqft_per_unit\n",
      "Computing ave_lot_size_per_unit\n",
      "Computing population\n",
      "Computing poor\n",
      "Computing renters\n",
      "Computing sfdu\n",
      "Computing ave_hhsize\n",
      "Computing jobs_500\n",
      "Computing jobs_1500\n",
      "Computing ave_income_1500\n",
      "Computing ave_income_500\n",
      "       retail_sqft_3000  sum_income_3000  residential_units_500  \\\n",
      "count      2.260600e+05     2.260600e+05          226060.000000   \n",
      "mean       5.057550e+05     7.371837e+08               3.972669   \n",
      "std        8.053835e+05     9.502790e+08               1.691437   \n",
      "min        0.000000e+00     0.000000e+00               0.000000   \n",
      "25%        5.506830e+04     2.432392e+08               3.397203   \n",
      "50%        2.694317e+05     5.364145e+08               4.425451   \n",
      "75%        6.332215e+05     8.948601e+08               5.053650   \n",
      "max        9.867062e+06     9.279715e+09               8.623758   \n",
      "\n",
      "       residential_units_1500    office_1500    retail_1500  industrial_1500  \\\n",
      "count           226060.000000  226060.000000  226060.000000    226060.000000   \n",
      "mean                 5.963998       4.535808       3.747265         2.179302   \n",
      "std                  1.832340       2.514672       2.623224         2.532960   \n",
      "min                  0.000000       0.000000       0.000000         0.000000   \n",
      "25%                  5.521975       3.044494       0.360395         0.000000   \n",
      "50%                  6.450195       4.927148       4.501443         0.697601   \n",
      "75%                  7.033726       6.299279       5.873310         4.301723   \n",
      "max                 10.149662      12.112490       9.720859         8.914350   \n",
      "\n",
      "       ave_sqft_per_unit  ave_lot_size_per_unit     population           poor  \\\n",
      "count      226060.000000          226060.000000  226060.000000  226060.000000   \n",
      "mean            7.245507               8.923011       6.824819       5.328419   \n",
      "std             1.273515               1.932248       1.981447       1.973220   \n",
      "min             0.000000               0.000000       0.000000       0.000000   \n",
      "25%             7.274915               8.571272       6.402435       4.479429   \n",
      "50%             7.431913               8.860680       7.392075       5.748369   \n",
      "75%             7.604065               9.342888       7.994585       6.628891   \n",
      "max             8.699681              17.866968      10.525663       9.981046   \n",
      "\n",
      "        renters           sfdu     ave_hhsize       jobs_500      jobs_1500  \\\n",
      "count  226060.0  226060.000000  226060.000000  226060.000000  226060.000000   \n",
      "mean        0.0       5.344127       1.259908       2.786776       5.475851   \n",
      "std         0.0       1.748975       0.256111       2.358133       2.154540   \n",
      "min         0.0       0.000000       0.000000       0.000000       0.000000   \n",
      "25%         0.0       4.961513       1.212750       0.000000       4.476246   \n",
      "50%         0.0       5.906911       1.291166       2.837368       5.910558   \n",
      "75%         0.0       6.438689       1.375419       4.785693       6.907002   \n",
      "max         0.0       8.095656       2.079442      10.416960      11.715625   \n",
      "\n",
      "       ave_income_1500  ave_income_500  \n",
      "count    226060.000000   226060.000000  \n",
      "mean         11.192736       10.230764  \n",
      "std           2.016080        2.990757  \n",
      "min           0.000000        0.000000  \n",
      "25%          11.314487       10.778977  \n",
      "50%          11.514434       11.066654  \n",
      "75%          11.736077       11.296025  \n",
      "max          13.265079       13.438343  \n",
      "Time to execute step 'neighborhood_vars': 110.86 s\n",
      "Running step 'regional_vars'\n",
      "Computing accessibility variables\n",
      "Computing residential_units_45\n",
      "Computing jobs_15\n",
      "Computing jobs_45\n",
      "Computing sum_income_40\n",
      "       residential_units_45       jobs_15       jobs_45  sum_income_40  \\\n",
      "count          12016.000000  12016.000000  12016.000000   1.201600e+04   \n",
      "mean              13.166568     11.421513     13.418752   1.007372e+11   \n",
      "std                0.764961      1.290143      0.849560   3.978464e+10   \n",
      "min                0.000000      0.757436      5.006494   0.000000e+00   \n",
      "25%               13.124941     10.921240     13.350580   8.404132e+10   \n",
      "50%               13.423258     11.642361     13.740697   1.089081e+11   \n",
      "75%               13.595269     12.296744     13.904187   1.292539e+11   \n",
      "max               13.826373     13.080248     14.112903   1.698138e+11   \n",
      "\n",
      "        embarcadero    pacheights      stanford  \n",
      "count  12016.000000  12016.000000  12016.000000  \n",
      "mean      34.742410     69.130263     56.614012  \n",
      "std       18.559806     16.907736     25.413248  \n",
      "min        0.000000      0.000000      0.000000  \n",
      "25%       18.397501     75.000000     25.857000  \n",
      "50%       34.338501     75.000000     75.000000  \n",
      "75%       49.097249     75.000000     75.000000  \n",
      "max       75.000000     75.000000     75.000000  \n",
      "Time to execute step 'regional_vars': 178.23 s\n",
      "Total time to execute iteration 1 with iteration value None: 289.09 s\n"
     ]
    }
   ],
   "source": [
    "orca.run([\"neighborhood_vars\",\n",
    "          \"regional_vars\"])"
   ]
  },
  {
   "cell_type": "code",
   "execution_count": 6,
   "metadata": {},
   "outputs": [],
   "source": [
    "orca.add_injectable('year', 2015)"
   ]
  },
  {
   "cell_type": "code",
   "execution_count": 11,
   "metadata": {},
   "outputs": [
    {
     "name": "stdout",
     "output_type": "stream",
     "text": [
      "Running step 'rsh_estimate'\n",
      "                            OLS Regression Results                            \n",
      "==============================================================================\n",
      "Dep. Variable:         price_per_sqft   R-squared:                       0.478\n",
      "Model:                            OLS   Adj. R-squared:                  0.478\n",
      "Method:                 Least Squares   F-statistic:                     8603.\n",
      "Date:                Fri, 19 Oct 2018   Prob (F-statistic):               0.00\n",
      "Time:                        15:54:44   Log-Likelihood:            -8.5888e+05\n",
      "No. Observations:              131693   AIC:                         1.718e+06\n",
      "Df Residuals:                  131678   BIC:                         1.718e+06\n",
      "Df Model:                          14                                         \n",
      "Covariance Type:            nonrobust                                         \n",
      "======================================================================================================\n",
      "                                         coef    std err          t      P>|t|      [0.025      0.975]\n",
      "------------------------------------------------------------------------------------------------------\n",
      "Intercept                          -4083.1594     24.962   -163.575      0.000   -4132.085   -4034.234\n",
      "I(transit_type == \"bart1\")[T.True]     4.0672      3.716      1.095      0.274      -3.215      11.350\n",
      "I(transit_type == \"bart2\")[T.True]    30.9732      3.911      7.919      0.000      23.308      38.639\n",
      "sqft_per_unit                         -0.0932      0.001   -116.898      0.000      -0.095      -0.092\n",
      "residential_units_1500                71.1462      1.102     64.543      0.000      68.986      73.307\n",
      "combo_logsum                          -3.1288      0.086    -36.199      0.000      -3.298      -2.959\n",
      "cml                                    5.7943      0.140     41.248      0.000       5.519       6.070\n",
      "sfdu                                 -73.0189      1.047    -69.756      0.000     -75.071     -70.967\n",
      "ave_income_1500                      402.1861      2.030    198.097      0.000     398.207     406.165\n",
      "is_sanfran                           135.9261      2.275     59.751      0.000     131.467     140.385\n",
      "pacheights                            -1.4944      0.030    -49.946      0.000      -1.553      -1.436\n",
      "modern_condo                          35.4723      5.025      7.059      0.000      25.623      45.322\n",
      "historic                              75.0959      1.436     52.281      0.000      72.281      77.911\n",
      "new_construction                      17.8773      1.688     10.591      0.000      14.569      21.186\n",
      "stanford                              -1.8130      0.023    -79.716      0.000      -1.858      -1.768\n",
      "==============================================================================\n",
      "Omnibus:                    42347.238   Durbin-Watson:                   1.249\n",
      "Prob(Omnibus):                  0.000   Jarque-Bera (JB):           209677.012\n",
      "Skew:                           1.483   Prob(JB):                         0.00\n",
      "Kurtosis:                       8.423   Cond. No.                     1.08e+05\n",
      "==============================================================================\n",
      "\n",
      "Warnings:\n",
      "[1] Standard Errors assume that the covariance matrix of the errors is correctly specified.\n",
      "[2] The condition number is large, 1.08e+05. This might indicate that there are\n",
      "strong multicollinearity or other numerical problems.\n",
      "Time to execute step 'rsh_estimate': 8.70 s\n",
      "Total time to execute iteration 1 with iteration value None: 8.70 s\n"
     ]
    }
   ],
   "source": [
    "orca.run(['rsh_estimate'])"
   ]
  }
 ],
 "metadata": {
  "kernelspec": {
   "display_name": "Python 2",
   "language": "python",
   "name": "python2"
  },
  "language_info": {
   "codemirror_mode": {
    "name": "ipython",
    "version": 2
   },
   "file_extension": ".py",
   "mimetype": "text/x-python",
   "name": "python",
   "nbconvert_exporter": "python",
   "pygments_lexer": "ipython2",
   "version": "2.7.15"
  }
 },
 "nbformat": 4,
 "nbformat_minor": 2
}
